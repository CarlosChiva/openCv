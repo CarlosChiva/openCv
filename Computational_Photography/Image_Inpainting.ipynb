{
 "cells": [
  {
   "cell_type": "markdown",
   "metadata": {},
   "source": [
    "se utiliza una técnica llamada imagen en pintura. La idea básica es simple: reemplazar esas malas marcas con sus píxeles vecinos para que se parezca al vecindario.\n",
    "\n",
    "Se diseñaron varios algoritmos para este propósito y OpenCV proporciona dos de ellos. Se puede acceder a ambos mediante la misma función, cv.inpaint()\n",
    "\n",
    "El primer algoritmo se basa en el artículo, una técnica de pintura de imágenes basada en el método de marcha rápida.\n",
    "Se basa en el método de marcha rápida. Considere una región de la imagen que se va a pintar. El algoritmo comienza desde el límite de esta región y va dentro de la región llenando gradualmente todo lo que está en el límite primero. Se necesita un pequeño vecindario alrededor del píxel del vecindario para pintarlo. Este píxel se reemplaza por la suma ponderada normalizada de todos los píxeles conocidos en el vecindario. La selección de los pesos es un asunto importante. Se da más peso a los píxeles que se encuentran cerca del punto, cerca de la normal del límite y a los que se encuentran en los contornos del límite. Una vez que se pinta un píxel, se mueve al siguiente píxel más cercano utilizando el método de marcha rápida."
   ]
  },
  {
   "cell_type": "markdown",
   "metadata": {},
   "source": [
    " Creamos una máscara del mismo tamaño que la de la imagen de entrada, donde los píxeles distintos de cero corresponden al área que se va a pintar. Todo lo demás es sencillo. Mi imagen está degradada con algunos trazos negros (agregué manualmente). Creé los trazos correspondientes con la herramienta Pintura."
   ]
  },
  {
   "cell_type": "code",
   "execution_count": null,
   "metadata": {},
   "outputs": [],
   "source": [
    "import numpy as np\n",
    "import cv2 as cv\n",
    "img = cv.imread('resources/messi_2.jpg')\n",
    "mask = cv.imread('mask2.png', cv.IMREAD_GRAYSCALE)\n",
    "dst = cv.inpaint(img,mask,3,cv.INPAINT_TELEA)\n",
    "cv.imshow('dst',dst)\n",
    "cv.waitKey(0)\n",
    "cv.destroyAllWindows()"
   ]
  }
 ],
 "metadata": {
  "language_info": {
   "name": "python"
  }
 },
 "nbformat": 4,
 "nbformat_minor": 2
}
