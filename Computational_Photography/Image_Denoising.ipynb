{
 "cells": [
  {
   "cell_type": "markdown",
   "metadata": {},
   "source": [
    "ay una propiedad del ruido. Generalmente se considera que el ruido es una variable aleatoria con media cero. Considere un píxel ruidoso, pag =pag0 + nortedóndepag0 es el verdadero valor del píxel ynortees el ruido en ese píxel. Puede tomar una gran cantidad de píxeles iguales (digamosnorte) de diferentes imágenes y calcula su promedio. Lo ideal es que consigaspag =pag0ya que la media del ruido es cero."
   ]
  },
  {
   "cell_type": "markdown",
   "metadata": {},
   "source": [
    "- Eliminación de ruido de imagen en OpenCV\n",
    "\n",
    "OpenCV proporciona cuatro variaciones de esta técnica:\n",
    "    - cv.fastNlMeansDenoising() : funciona con una sola imagen en escala de grises\n",
    "    - cv.fastNlMeansDenoisingColored() : funciona con una imagen en color.\n",
    "    - cv.fastNlMeansDenoisingMulti() : funciona con secuencias de imágenes capturadas en un corto período de tiempo (imágenes en escala de grises)\n",
    "    - cv.fastNlMeansDenoisingColoredMulti() : igual que el anterior, pero para imágenes en color."
   ]
  },
  {
   "cell_type": "markdown",
   "metadata": {},
   "source": [
    "1. cv.fastNlMeansDenoisingColored():\n",
    "Como se mencionó anteriormente, se utiliza para eliminar el ruido de las imágenes en color. (Se espera que el ruido sea gaussiano)"
   ]
  },
  {
   "cell_type": "code",
   "execution_count": null,
   "metadata": {},
   "outputs": [],
   "source": [
    "import numpy as np\n",
    "import cv2 as cv\n",
    "from matplotlib import pyplot as plt\n",
    "img = cv.imread('die.png')\n",
    "dst = cv.fastNlMeansDenoisingColored(img,None,10,10,7,21)\n",
    "plt.subplot(121),plt.imshow(img)\n",
    "plt.subplot(122),plt.imshow(dst)\n",
    "plt.show()"
   ]
  },
  {
   "cell_type": "markdown",
   "metadata": {},
   "source": [
    "2. cv.fastNlMeansDenoisingMulti()\n",
    "Ahora aplicaremos el mismo método a un vídeo. El primer argumento es la lista de fotogramas ruidosos. El segundo argumento imgToDenoiseIndex especifica qué fotograma necesitamos eliminar, para ello pasamos el índice del fotograma en nuestra lista de entrada. En tercer lugar está temporalWindowSize, que especifica el número de fotogramas cercanos que se utilizarán para eliminar el ruido. Debería ser extraño. En ese caso, se utiliza un total de marcos temporalesWindowSize donde el marco central es el marco que se va a eliminar. Por ejemplo, pasó una lista de 5 fotogramas como entrada. Sea imgToDenoiseIndex = 2 y temporalWindowSize = 3. Luego, el cuadro-1, el cuadro-2 y el cuadro-3 se utilizan para eliminar el ruido del cuadro-2"
   ]
  },
  {
   "cell_type": "code",
   "execution_count": null,
   "metadata": {},
   "outputs": [],
   "source": [
    "import numpy as np\n",
    "import cv2 as cv\n",
    "from matplotlib import pyplot as plt\n",
    "cap = cv.VideoCapture('vtest.avi')\n",
    "# create a list of first 5 frames\n",
    "img = [cap.read()[1] for i in range(5)]\n",
    "# convert all to grayscale\n",
    "gray = [cv.cvtColor(i, cv.COLOR_BGR2GRAY) for i in img]\n",
    "# convert all to float64\n",
    "gray = [np.float64(i) for i in gray]\n",
    "# create a noise of variance 25\n",
    "noise = np.random.randn(*gray[1].shape)*10\n",
    "# Add this noise to images\n",
    "noisy = [i+noise for i in gray]\n",
    "# Convert back to uint8\n",
    "noisy = [np.uint8(np.clip(i,0,255)) for i in noisy]\n",
    "# Denoise 3rd frame considering all the 5 frames\n",
    "dst = cv.fastNlMeansDenoisingMulti(noisy, 2, 5, None, 4, 7, 35)\n",
    "plt.subplot(131),plt.imshow(gray[2],'gray')\n",
    "plt.subplot(132),plt.imshow(noisy[2],'gray')\n",
    "plt.subplot(133),plt.imshow(dst,'gray')\n",
    "plt.show()"
   ]
  }
 ],
 "metadata": {
  "language_info": {
   "name": "python"
  }
 },
 "nbformat": 4,
 "nbformat_minor": 2
}
