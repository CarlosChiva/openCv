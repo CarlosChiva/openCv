{
 "cells": [
  {
   "cell_type": "markdown",
   "metadata": {},
   "source": [
    "Navegar en OpenCV.\n",
    "\n",
    "OpenCV proporciona funcionalidades SURF como SIFT. Inicia un objeto SURF con algunas condiciones opcionales como descriptores de intensidad 64/128, SURF vertical/normal, etc. Todos los detalles están bien explicados en los documentos. Luego, como hicimos en SIFT, podemos usar SURF.detect(), SURF.compute(), etc. para encontrar puntos clave y descriptores.\n",
    "\n",
    "Primero veremos una demostración sencilla sobre cómo encontrar puntos clave y descriptores de SURF y dibujarlos. Todos los ejemplos se muestran en la terminal Python, ya que es igual que SIFT solamente."
   ]
  },
  {
   "cell_type": "code",
   "execution_count": null,
   "metadata": {},
   "outputs": [],
   "source": [
    "import cv2 as cv\n",
    "from matplotlib import pyplot as plt\n",
    "img = cv.imread('resources/butterfly.jpg', cv.IMREAD_GRAYSCALE)\n",
    "# Create SURF object. You can specify params here or later.\n",
    "# Here I set Hessian Threshold to 400\n",
    "surf = cv.xfeatures2d.SURF_create(400)\n",
    "# Find keypoints and descriptors directly\n",
    "kp, des = surf.detectAndCompute(img,None)\n",
    "len(kp)\n"
   ]
  },
  {
   "cell_type": "markdown",
   "metadata": {},
   "source": [
    "1199 puntos clave es demasiado para mostrarlos en una imagen. Lo reducimos a unos 50 para dibujarlo en una imagen. Mientras coincidimos, es posible que necesitemos todas esas funciones, pero no ahora. Entonces aumentamos el umbral de Hesse."
   ]
  },
  {
   "cell_type": "code",
   "execution_count": null,
   "metadata": {},
   "outputs": [],
   "source": [
    "# Check present Hessian threshold\n",
    "print( surf.getHessianThreshold() )\n",
    "# We set it to some 50000. Remember, it is just for representing in picture.\n",
    "# In actual cases, it is better to have a value 300-500\n",
    "surf.setHessianThreshold(50000)\n",
    "# Again compute keypoints and check its number.\n",
    "kp, des = surf.detectAndCompute(img,None)\n",
    "print( len(kp) )\n",
    "\n"
   ]
  },
  {
   "cell_type": "markdown",
   "metadata": {},
   "source": [
    "Son menos de 50. Dibujémoslo en la imagen."
   ]
  },
  {
   "cell_type": "code",
   "execution_count": null,
   "metadata": {},
   "outputs": [],
   "source": [
    "img2 = cv.drawKeypoints(img,kp,None,(255,0,0),4)\n",
    "plt.imshow(img2),plt.show()"
   ]
  },
  {
   "cell_type": "markdown",
   "metadata": {},
   "source": [
    "Ahora quiero aplicar U-SURF para que no encuentre la orientación."
   ]
  },
  {
   "cell_type": "code",
   "execution_count": null,
   "metadata": {},
   "outputs": [],
   "source": [
    "# Check upright flag, if it False, set it to True\n",
    "print( surf.getUpright() )\n",
    "surf.setUpright(True)\n",
    "# Recompute the feature points and draw it\n",
    "kp = surf.detect(img,None)\n",
    "img2 = cv.drawKeypoints(img,kp,None,(255,0,0),4)\n",
    "plt.imshow(img2),plt.show()"
   ]
  },
  {
   "cell_type": "markdown",
   "metadata": {},
   "source": [
    "Finalmente verificamos el tamaño del descriptor y lo cambiamos a 128 si solo tiene 64 dimensiones."
   ]
  },
  {
   "cell_type": "code",
   "execution_count": null,
   "metadata": {},
   "outputs": [],
   "source": [
    "# Find size of descriptor\n",
    "print( surf.descriptorSize() )\n",
    "# That means flag, \"extended\" is False.\n",
    "surf.getExtended()\n",
    "# So we make it to True to get 128-dim descriptors.\n",
    "surf.setExtended(True)\n",
    "kp, des = surf.detectAndCompute(img,None)\n",
    "print( surf.descriptorSize() )\n",
    "print( des.shape )\n"
   ]
  }
 ],
 "metadata": {
  "kernelspec": {
   "display_name": "tf",
   "language": "python",
   "name": "python3"
  },
  "language_info": {
   "codemirror_mode": {
    "name": "ipython",
    "version": 3
   },
   "file_extension": ".py",
   "mimetype": "text/x-python",
   "name": "python",
   "nbconvert_exporter": "python",
   "pygments_lexer": "ipython3",
   "version": "3.9.18"
  }
 },
 "nbformat": 4,
 "nbformat_minor": 2
}
