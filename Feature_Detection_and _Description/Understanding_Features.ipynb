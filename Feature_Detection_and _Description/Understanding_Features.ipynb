{
 "cells": [
  {
   "cell_type": "markdown",
   "metadata": {},
   "source": [
    "La mayoría de ustedes habrán jugado a los juegos de rompecabezas. Obtienes muchas piezas pequeñas de una imagen, que debes ensamblar correctamente para formar una gran imagen real. La pregunta es ¿cómo lo haces? ¿Qué pasa con proyectar la misma teoría en un programa de computadora para que la computadora pueda resolver rompecabezas? Si la computadora puede resolver rompecabezas, ¿por qué no podemos darle muchas imágenes de la vida real de un buen paisaje natural y decirle que una todas esas imágenes en una sola imagen grande? Si la computadora puede unir varias imágenes naturales en una, ¿qué tal si le damos muchas imágenes de un edificio o cualquier estructura y le decimos a la computadora que cree un modelo 3D a partir de ellas?\n",
    "\n",
    "Bueno, las preguntas y las imaginaciones continúan. Pero todo depende de la pregunta más básica: ¿Cómo se juega a los rompecabezas? ¿Cómo se organizan muchas piezas de imágenes revueltas en una sola imagen grande? ¿Cómo se pueden unir muchas imágenes naturales en una sola imagen?\n",
    "\n",
    "La respuesta es que buscamos patrones específicos o características específicas que sean únicas, que puedan rastrearse y compararse fácilmente. Si buscamos una definición de tal característica, puede que nos resulte difícil expresarla en palabras, pero sabemos cuáles son. Si alguien le pide que señale una buena característica que se pueda comparar en varias imágenes, puede señalar una. Por eso, incluso los niños pequeños pueden jugar fácilmente a estos juegos. Buscamos estas características en una imagen, las encontramos, buscamos las mismas características en otras imágenes y las alineamos. Eso es todo. (En los rompecabezas, nos fijamos más en la continuidad de diferentes imágenes). Todas estas habilidades están presentes en nosotros de manera inherente.\n",
    "\n",
    "Así que nuestra única pregunta básica se amplía a más, pero se vuelve más específica. ¿Cuáles son estas características? . (La respuesta debería ser comprensible también para una computadora).\n",
    "\n",
    "Es difícil decir cómo los humanos encuentran estas características. Esto ya está programado en nuestro cerebro. Pero si miramos profundamente algunas imágenes y buscamos diferentes patrones, encontraremos algo interesante. Por ejemplo, tome la siguiente imagen:\n",
    "\n",
    "feature_building.jpg"
   ]
  },
  {
   "cell_type": "markdown",
   "metadata": {},
   "source": [
    "La imagen es muy simple. En la parte superior de la imagen, se muestran seis pequeños parches de imagen. La pregunta para usted es encontrar la ubicación exacta de estos parches en la imagen original. ¿Cuántos resultados correctos puedes encontrar?\n",
    "\n",
    "A y B son superficies planas y se extienden sobre una gran superficie. Es difícil encontrar la ubicación exacta de estos parches.\n",
    "\n",
    "C y D son mucho más simples. Son bordes del edificio. Puede encontrar una ubicación aproximada, pero la ubicación exacta aún es difícil. Esto se debe a que el patrón es el mismo en todas partes del borde. En el borde, sin embargo, es diferente. Por lo tanto, un borde es una característica mejor en comparación con un área plana, pero no lo suficientemente buena (es bueno en un rompecabezas para comparar la continuidad de los bordes).\n",
    "\n",
    "Finalmente, E y F son algunas esquinas del edificio. Y se pueden encontrar fácilmente. Porque en las esquinas, dondequiera que muevas este parche, se verá diferente. Por lo que pueden considerarse buenas características. Ahora pasamos a una imagen más simple (y ampliamente utilizada) para una mejor comprensión."
   ]
  },
  {
   "cell_type": "markdown",
   "metadata": {},
   "source": [
    "Al igual que arriba, el parche azul es un área plana y difícil de encontrar y rastrear. Dondequiera que muevas el parche azul, se verá igual. El parche negro tiene un borde. Si lo mueve en dirección vertical (es decir, a lo largo del gradiente), cambia. Movido a lo largo del borde (paralelo al borde), se ve igual. Y para la mancha roja, es una esquina. Dondequiera que muevas el parche, se verá diferente, lo que significa que es único. Básicamente, las esquinas se consideran buenas características de una imagen. (No sólo las esquinas, en algunos casos las manchas se consideran buenas características).\n",
    "\n",
    "Ahora respondimos a nuestra pregunta: \"¿Cuáles son estas características?\". Pero surge la siguiente pregunta. ¿Cómo los encontramos? ¿O cómo encontramos las esquinas?. Respondimos eso de una manera intuitiva, es decir, buscamos las regiones en las imágenes que tienen la máxima variación cuando se mueven (en una pequeña cantidad) en todas las regiones a su alrededor. Esto se proyectaría en lenguaje informático en los próximos capítulos. Por lo tanto, encontrar estas características de la imagen se llama Detección de características .\n",
    "\n",
    "Encontramos las características en las imágenes. Una vez que lo haya encontrado, debería poder encontrar lo mismo en las otras imágenes. ¿Cómo se hace esto? Tomamos una región alrededor de la característica, la explicamos con nuestras propias palabras, como \"la parte superior es el cielo azul, la parte inferior es la región de un edificio, en ese edificio hay vidrio, etc.\" y buscamos la misma área en la otra imágenes. Básicamente, estás describiendo la característica. De manera similar, una computadora también debe describir la región alrededor de la característica para poder encontrarla en otras imágenes. La llamada descripción se llama Descripción de característica . Una vez que tenga las características y su descripción, puede encontrar las mismas características en todas las imágenes y alinearlas, unirlas o hacer lo que quiera.\n",
    "\n",
    "Entonces, en este módulo, buscamos diferentes algoritmos en OpenCV para encontrar características, describirlas, unirlas, etc."
   ]
  }
 ],
 "metadata": {
  "language_info": {
   "name": "python"
  }
 },
 "nbformat": 4,
 "nbformat_minor": 2
}
