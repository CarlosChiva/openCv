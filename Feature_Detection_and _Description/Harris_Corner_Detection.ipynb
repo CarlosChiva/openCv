{
 "cells": [
  {
   "cell_type": "markdown",
   "metadata": {},
   "source": [
    "En el último capítulo vimos que las esquinas son regiones de la imagen con una gran variación de intensidad en todas las direcciones. Chris Harris y Mike Stephens realizaron uno de los primeros intentos de encontrar estas esquinas en su artículo A Combined Corner and Edge Detector en 1988, por lo que ahora se llama Harris Corner Detector. Llevó esta simple idea a una forma matemática. Básicamente encuentra la diferencia de intensidad para un desplazamiento de( u , v )en todas direcciones. Esto se expresa de la siguiente manera:"
   ]
  },
  {
   "cell_type": "markdown",
   "metadata": {},
   "source": [
    "Detector de esquinas Harris en OpenCV\n",
    "OpenCV tiene la función cv.cornerHarris() para este propósito. Sus argumentos son:\n",
    "\n",
    "img : imagen de entrada. Debe ser en escala de grises y tipo float32.\n",
    "blockSize : es el tamaño del vecindario considerado para la detección de esquinas.\n",
    "ksize : parámetro de apertura de la derivada de Sobel utilizada.\n",
    "k - Parámetro libre del detector de Harris en la ecuación."
   ]
  },
  {
   "cell_type": "code",
   "execution_count": 1,
   "metadata": {},
   "outputs": [],
   "source": [
    "import numpy as np\n",
    "import cv2 as cv\n",
    "filename = 'resources/chessboard.png'\n",
    "img = cv.imread(filename)\n",
    "gray = cv.cvtColor(img,cv.COLOR_BGR2GRAY)\n",
    "gray = np.float32(gray)\n",
    "dst = cv.cornerHarris(gray,2,3,0.04)\n",
    "#result is dilated for marking the corners, not important\n",
    "dst = cv.dilate(dst,None)\n",
    "# Threshold for an optimal value, it may vary depending on the image.\n",
    "img[dst>0.01*dst.max()]=[0,0,255]\n",
    "cv.imshow('dst',img)\n",
    "if cv.waitKey(0) & 0xff == 27:\n",
    "    cv.destroyAllWindows()"
   ]
  },
  {
   "cell_type": "markdown",
   "metadata": {},
   "source": [
    "Esquina con precisión de subpíxeles.\n",
    "\n",
    "A veces, es posible que necesites encontrar las esquinas con la máxima precisión. OpenCV viene con una función cv.cornerSubPix() que refina aún más las esquinas detectadas con una precisión de subpíxeles. A continuación se muestra un ejemplo. Como de costumbre, primero debemos encontrar las esquinas de Harris. Luego pasamos los centroides de estas esquinas (puede haber un montón de píxeles en una esquina, tomamos su centroide) para refinarlos. Las esquinas Harris están marcadas con píxeles rojos y las esquinas refinadas están marcadas con píxeles verdes. Para esta función, tenemos que definir los criterios para detener la iteración. Lo detenemos después de un número específico de iteraciones o de que se alcance una cierta precisión, lo que ocurra primero. También necesitamos definir el tamaño del barrio en el que busca esquinas."
   ]
  },
  {
   "cell_type": "code",
   "execution_count": 2,
   "metadata": {},
   "outputs": [
    {
     "data": {
      "text/plain": [
       "True"
      ]
     },
     "execution_count": 2,
     "metadata": {},
     "output_type": "execute_result"
    }
   ],
   "source": [
    "import numpy as np\n",
    "import cv2 as cv\n",
    "filename = 'resources/chessboard.png'\n",
    "img = cv.imread(filename)\n",
    "gray = cv.cvtColor(img,cv.COLOR_BGR2GRAY)\n",
    "# find Harris corners\n",
    "gray = np.float32(gray)\n",
    "dst = cv.cornerHarris(gray,2,3,0.04)\n",
    "dst = cv.dilate(dst,None)\n",
    "ret, dst = cv.threshold(dst,0.01*dst.max(),255,0)\n",
    "dst = np.uint8(dst)\n",
    "# find centroids\n",
    "ret, labels, stats, centroids = cv.connectedComponentsWithStats(dst)\n",
    "# define the criteria to stop and refine the corners\n",
    "criteria = (cv.TERM_CRITERIA_EPS + cv.TERM_CRITERIA_MAX_ITER, 100, 0.001)\n",
    "corners = cv.cornerSubPix(gray,np.float32(centroids),(5,5),(-1,-1),criteria)\n",
    "# Now draw them\n",
    "res = np.hstack((centroids,corners))\n",
    "res = np.int0(res)\n",
    "img[res[:,1],res[:,0]]=[0,0,255]\n",
    "img[res[:,3],res[:,2]] = [0,255,0]\n",
    "cv.imwrite('resources/subpixel5.png',img)"
   ]
  }
 ],
 "metadata": {
  "kernelspec": {
   "display_name": "tf",
   "language": "python",
   "name": "python3"
  },
  "language_info": {
   "codemirror_mode": {
    "name": "ipython",
    "version": 3
   },
   "file_extension": ".py",
   "mimetype": "text/x-python",
   "name": "python",
   "nbconvert_exporter": "python",
   "pygments_lexer": "ipython3",
   "version": "3.9.18"
  }
 },
 "nbformat": 4,
 "nbformat_minor": 2
}
