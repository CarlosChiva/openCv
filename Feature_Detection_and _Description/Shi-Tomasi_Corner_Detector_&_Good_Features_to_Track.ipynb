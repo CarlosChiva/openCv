{
 "cells": [
  {
   "cell_type": "markdown",
   "metadata": {},
   "source": [
    "OpenCV tiene una función, cv.goodFeaturesToTrack() . Encuentra N esquinas más fuertes en la imagen mediante el método Shi-Tomasi (o detección de esquinas de Harris, si lo especifica). Como es habitual, la imagen debe ser en escala de grises. Luego especifica el número de esquinas que desea encontrar. Luego especificas el nivel de calidad, que es un valor entre 0 y 1, que denota la calidad mínima de la esquina por debajo de la cual todos son rechazados. Luego proporcionamos la distancia euclidiana mínima entre esquinas detectadas.\n",
    "\n",
    "Con toda esta información, la función busca esquinas en la imagen. Se rechazan todos los rincones por debajo del nivel de calidad. Luego clasifica las esquinas restantes según la calidad en orden descendente. Luego, la función toma la primera esquina más fuerte, descarta todas las esquinas cercanas en el rango de distancia mínima y devuelve N esquinas más fuertes."
   ]
  },
  {
   "cell_type": "code",
   "execution_count": null,
   "metadata": {},
   "outputs": [],
   "source": [
    "import numpy as np\n",
    "import cv2 as cv\n",
    "from matplotlib import pyplot as plt\n",
    "img = cv.imread('blox.jpg')\n",
    "gray = cv.cvtColor(img,cv.COLOR_BGR2GRAY)\n",
    "corners = cv.goodFeaturesToTrack(gray,25,0.01,10)\n",
    "corners = np.int0(corners)\n",
    "for i in corners:\n",
    "    x,y = i.ravel()\n",
    "    cv.circle(img,(x,y),3,255,-1)\n",
    "plt.imshow(img),plt.show()"
   ]
  }
 ],
 "metadata": {
  "kernelspec": {
   "display_name": "tf",
   "language": "python",
   "name": "python3"
  },
  "language_info": {
   "name": "python",
   "version": "3.9.18"
  }
 },
 "nbformat": 4,
 "nbformat_minor": 2
}
