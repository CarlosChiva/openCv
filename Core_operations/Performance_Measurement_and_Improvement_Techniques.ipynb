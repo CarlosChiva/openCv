{
 "cells": [
  {
   "cell_type": "markdown",
   "metadata": {},
   "source": [
    "Medición del rendimiento con OpenCV"
   ]
  },
  {
   "cell_type": "code",
   "execution_count": 1,
   "metadata": {},
   "outputs": [],
   "source": [
    "import cv2 as cv"
   ]
  },
  {
   "cell_type": "markdown",
   "metadata": {},
   "source": [
    "La función cv.getTickCount devuelve el número de ciclos de reloj después de un evento de referencia (como el momento en que se encendió la máquina) hasta el momento en que se llama a esta función. Entonces, si lo llama antes y después de la ejecución de la función, obtendrá la cantidad de ciclos de reloj utilizados para ejecutar una función.\n",
    "\n",
    "La función cv.getTickFrequency devuelve la frecuencia de los ciclos de reloj o el número de ciclos de reloj por segundo. Entonces, para encontrar el tiempo de ejecución en segundos, puedes hacer lo siguiente:"
   ]
  },
  {
   "cell_type": "code",
   "execution_count": 2,
   "metadata": {},
   "outputs": [],
   "source": [
    "e1 = cv.getTickCount ()\n",
    "# ejecución de tu código\n",
    "e2 = cv.getTickCount ()\n",
    "tiempo = (e2 - e1)/ cv.getTickFrequency ()"
   ]
  },
  {
   "cell_type": "code",
   "execution_count": 3,
   "metadata": {},
   "outputs": [
    {
     "name": "stdout",
     "output_type": "stream",
     "text": [
      "0.388329385\n"
     ]
    }
   ],
   "source": [
    "img1 = cv.imread('resources/messi5.jpg')\n",
    "assert img1 is not None, \"file could not be read, check with os.path.exists()\"\n",
    "e1 = cv.getTickCount()\n",
    "for i in range(5,49,2):\n",
    "    img1 = cv.medianBlur(img1,i)\n",
    "e2 = cv.getTickCount()\n",
    "t = (e2 - e1)/cv.getTickFrequency()\n",
    "print( t )\n"
   ]
  },
  {
   "cell_type": "markdown",
   "metadata": {},
   "source": [
    "Optimización predeterminada en OpenCV\n"
   ]
  },
  {
   "cell_type": "markdown",
   "metadata": {},
   "source": [
    "Muchas de las funciones de OpenCV están optimizadas usando SSE2, AVX, etc. También contiene el código no optimizado. Entonces, si nuestro sistema admite estas funciones, deberíamos explotarlas (casi todos los procesadores modernos las admiten). Está habilitado de forma predeterminada durante la compilación. Entonces OpenCV ejecuta el código optimizado si está habilitado; de lo contrario, ejecuta el código no optimizado. Puede usar cv.useOptimized() para verificar si está habilitado/deshabilitado y cv.setUseOptimized() para habilitarlo/deshabilitarlo. Veamos un ejemplo sencillo."
   ]
  },
  {
   "cell_type": "code",
   "execution_count": null,
   "metadata": {},
   "outputs": [],
   "source": [
    "cv.useOptimized()"
   ]
  },
  {
   "cell_type": "code",
   "execution_count": null,
   "metadata": {},
   "outputs": [],
   "source": [
    "%timeit res = cv.medianBlur(img,49)"
   ]
  },
  {
   "cell_type": "code",
   "execution_count": null,
   "metadata": {},
   "outputs": [],
   "source": [
    "cv.setUseOptimized(False)"
   ]
  },
  {
   "cell_type": "code",
   "execution_count": null,
   "metadata": {},
   "outputs": [],
   "source": [
    "cv.useOptimized()"
   ]
  },
  {
   "cell_type": "code",
   "execution_count": null,
   "metadata": {},
   "outputs": [],
   "source": [
    "%timeit res = cv.medianBlur(img,49)"
   ]
  }
 ],
 "metadata": {
  "kernelspec": {
   "display_name": "tf",
   "language": "python",
   "name": "python3"
  },
  "language_info": {
   "codemirror_mode": {
    "name": "ipython",
    "version": 3
   },
   "file_extension": ".py",
   "mimetype": "text/x-python",
   "name": "python",
   "nbconvert_exporter": "python",
   "pygments_lexer": "ipython3",
   "version": "3.9.18"
  }
 },
 "nbformat": 4,
 "nbformat_minor": 2
}
