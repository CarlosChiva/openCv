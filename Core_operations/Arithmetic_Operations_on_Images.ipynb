{
 "cells": [
  {
   "cell_type": "markdown",
   "metadata": {},
   "source": [
    "Image Addition"
   ]
  },
  {
   "cell_type": "code",
   "execution_count": 2,
   "metadata": {},
   "outputs": [
    {
     "name": "stdout",
     "output_type": "stream",
     "text": [
      "[[255]]\n",
      "[4]\n"
     ]
    }
   ],
   "source": [
    "import cv2 as cv\n",
    "import numpy as np\n",
    "x = np.uint8([250])\n",
    "y = np.uint8([10])\n",
    "print( cv.add(x,y) ) # 250+10 = 260 => 255\n",
    "print( x+y )          # 250+10 = 260 % 256 = 4"
   ]
  },
  {
   "cell_type": "markdown",
   "metadata": {},
   "source": [
    "Mezcla de imágenes\n",
    "Esto también es una adición de imágenes, pero se les da diferentes pesos para dar una sensación de fusión o transparencia.\n",
    "Aquí tomé dos imágenes para combinarlas. A la primera imagen se le asigna un peso de 0,7 y a la segunda imagen se le asigna 0,3. cv.addWeighted() aplica la siguiente ecuación a la imagen:"
   ]
  },
  {
   "cell_type": "code",
   "execution_count": null,
   "metadata": {},
   "outputs": [],
   "source": [
    "img1 = cv.imread('resources/ml.png')\n",
    "img2 = cv.imread('resources/opencv-logo.png')\n",
    "print(\"img1 shape:\", img1.shape)\n",
    "print(\"img2 shape:\", img2.shape)\n",
    "\n",
    "assert img1 is not None, \"file could not be read, check with os.path.exists()\"\n",
    "assert img2 is not None, \"file could not be read, check with os.path.exists()\"\n",
    "dst = cv.addWeighted(img1,0.7,img2,0.3,0)\n",
    "cv.imshow('dst',dst)\n",
    "cv.waitKey(0)\n",
    "cv.destroyAllWindows()"
   ]
  },
  {
   "cell_type": "markdown",
   "metadata": {},
   "source": [
    "Operaciones bit a bit\n",
    "Esto incluye las operaciones bit a bit AND, OR, NOT y XOR. Serán muy útiles al extraer cualquier parte de la imagen (como veremos en los próximos capítulos), definir y trabajar con ROI no rectangulares, etc. A continuación veremos un ejemplo de cómo cambiar una región particular de una imagen. .\n",
    "\n",
    "Quiero poner el logo de OpenCV encima de una imagen. Si agrego dos imágenes, cambiará el color. Si los difumino, obtengo un efecto transparente. Pero quiero que sea opaco. Si fuera una región rectangular, podría usar el ROI como hicimos en el capítulo anterior. Pero el logotipo de OpenCV no tiene forma rectangular. Entonces puedes hacerlo con operaciones bit a bit como se muestra a continuación"
   ]
  },
  {
   "cell_type": "code",
   "execution_count": 5,
   "metadata": {},
   "outputs": [],
   "source": [
    "# Load two images\n",
    "img1 = cv.imread('resources/messi5.jpg')\n",
    "img2 = cv.imread('resources/opencv-logo-white.png')\n",
    "assert img1 is not None, \"file could not be read, check with os.path.exists()\"\n",
    "assert img2 is not None, \"file could not be read, check with os.path.exists()\"\n",
    "# I want to put logo on top-left corner, So I create a ROI\n",
    "rows,cols,channels = img2.shape\n",
    "roi = img1[0:rows, 0:cols]\n",
    "# Now create a mask of logo and create its inverse mask also\n",
    "img2gray = cv.cvtColor(img2,cv.COLOR_BGR2GRAY)\n",
    "ret, mask = cv.threshold(img2gray, 10, 255, cv.THRESH_BINARY)\n",
    "mask_inv = cv.bitwise_not(mask)\n",
    "# Now black-out the area of logo in ROI\n",
    "img1_bg = cv.bitwise_and(roi,roi,mask = mask_inv)\n",
    "# Take only region of logo from logo image.\n",
    "img2_fg = cv.bitwise_and(img2,img2,mask = mask)\n",
    "# Put logo in ROI and modify the main image\n",
    "dst = cv.add(img1_bg,img2_fg)\n",
    "img1[0:rows, 0:cols ] = dst\n",
    "cv.imshow('res',img1)\n",
    "cv.waitKey(0)\n",
    "cv.destroyAllWindows()"
   ]
  },
  {
   "cell_type": "markdown",
   "metadata": {},
   "source": [
    "Exercise"
   ]
  },
  {
   "cell_type": "code",
   "execution_count": null,
   "metadata": {},
   "outputs": [],
   "source": [
    "import cv2\n",
    "import os\n",
    "import glob\n",
    "from threading import Timer"
   ]
  },
  {
   "cell_type": "code",
   "execution_count": null,
   "metadata": {},
   "outputs": [],
   "source": [
    "def read_images(folder_path):\n",
    "    \"\"\"\n",
    "    Read all images from a folder and return a list of image paths.\n",
    "    \"\"\"\n",
    "    image_files = sorted(glob.glob(os.path.join(folder_path, '*.jpg')))  # Change the extension if needed\n",
    "    return [cv2.imread(img) for img in image_files]"
   ]
  },
  {
   "cell_type": "code",
   "execution_count": null,
   "metadata": {},
   "outputs": [],
   "source": [
    "def blend_images(img1, img2, alpha):\n",
    "    \"\"\"\n",
    "    Blend two images using cv2.addWeighted.\n",
    "    \"\"\"\n",
    "    return cv2.addWeighted(img1, alpha, img2, 1 - alpha, 0)"
   ]
  },
  {
   "cell_type": "code",
   "execution_count": null,
   "metadata": {},
   "outputs": [],
   "source": [
    "def show_slideshow(images, delay_between_images=2000):\n",
    "    \"\"\"\n",
    "    Display a slideshow with smooth transitions between images.\n",
    "    \"\"\"\n",
    "    window_name = 'Slideshow'\n",
    "    cv2.namedWindow(window_name, cv2.WINDOW_NORMAL)\n",
    "\n",
    "    current_index = 0\n",
    "\n",
    "    def transition():\n",
    "        nonlocal current_index\n",
    "        img1 = images[current_index]\n",
    "        current_index = (current_index + 1) % len(images)\n",
    "        img2 = images[current_index]\n",
    "\n",
    "        alpha = 0.0\n",
    "        while alpha <= 1.0:\n",
    "            blended = blend_images(img1, img2, alpha)\n",
    "            cv2.imshow(window_name, blended)\n",
    "            alpha += 0.01  # Adjust the step size for smoother transitions\n",
    "            cv2.waitKey(10)\n",
    "\n",
    "        timer = Timer(delay_between_images / 1000.0, transition)\n",
    "        timer.start()\n",
    "\n",
    "    transition()  # Start the initial transition\n",
    "\n",
    "    cv2.waitKey(0)\n",
    "    cv2.destroyAllWindows()"
   ]
  },
  {
   "cell_type": "code",
   "execution_count": null,
   "metadata": {},
   "outputs": [],
   "source": [
    "folder_path = 'resources'  # Replace with the path to your image folder\n",
    "images = read_images(folder_path)\n",
    "\n",
    "if not images:\n",
    "    print(\"No images found in the specified folder.\")\n",
    "else:\n",
    "    show_slideshow(images)"
   ]
  }
 ],
 "metadata": {
  "kernelspec": {
   "display_name": "tf",
   "language": "python",
   "name": "python3"
  },
  "language_info": {
   "codemirror_mode": {
    "name": "ipython",
    "version": 3
   },
   "file_extension": ".py",
   "mimetype": "text/x-python",
   "name": "python",
   "nbconvert_exporter": "python",
   "pygments_lexer": "ipython3",
   "version": "3.9.18"
  }
 },
 "nbformat": 4,
 "nbformat_minor": 2
}
