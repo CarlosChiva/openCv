{
 "cells": [
  {
   "cell_type": "markdown",
   "metadata": {},
   "source": [
    "1. Momentos\n",
    "Los momentos de imagen le ayudan a calcular algunas características como el centro de masa del objeto, el área del objeto, etc. Consulte la página de Wikipedia sobre Momentos de imagen.\n",
    "\n",
    "La función cv.moments() proporciona un diccionario de todos los valores de momento calculados. Vea abajo:"
   ]
  },
  {
   "cell_type": "code",
   "execution_count": null,
   "metadata": {},
   "outputs": [],
   "source": [
    "import numpy as np\n",
    "import cv2 as cv\n",
    "img = cv.imread('star.jpg', cv.IMREAD_GRAYSCALE)\n",
    "assert img is not None, \"file could not be read, check with os.path.exists()\"\n",
    "ret,thresh = cv.threshold(img,127,255,0)\n",
    "contours,hierarchy = cv.findContours(thresh, 1, 2)\n",
    "cnt = contours[0]\n",
    "M = cv.moments(cnt)\n",
    "print( M )"
   ]
  },
  {
   "cell_type": "code",
   "execution_count": null,
   "metadata": {},
   "outputs": [],
   "source": [
    "cx = int(M['m10']/M['m00'])\n",
    "cy = int(M['m01']/M['m00'])"
   ]
  },
  {
   "cell_type": "markdown",
   "metadata": {},
   "source": [
    "2. Área de contorno\n",
    "El área del contorno viene dada por la función cv.contourArea() o por momentos, M['m00'] ."
   ]
  },
  {
   "cell_type": "code",
   "execution_count": null,
   "metadata": {},
   "outputs": [],
   "source": [
    "area = cv.contourArea(cnt)\n"
   ]
  },
  {
   "cell_type": "markdown",
   "metadata": {},
   "source": [
    "3. Perímetro del contorno\n",
    "También se le llama longitud de arco. Se puede descubrir utilizando la función cv.arcLength() . El segundo argumento especifica si la forma es un contorno cerrado (si se pasa como Verdadero) o simplemente una curva."
   ]
  },
  {
   "cell_type": "code",
   "execution_count": null,
   "metadata": {},
   "outputs": [],
   "source": [
    "perimeter = cv.arcLength(cnt,True)\n"
   ]
  },
  {
   "cell_type": "markdown",
   "metadata": {},
   "source": [
    "4. Aproximación del contorno\n",
    "Aproxima una forma de contorno a otra forma con menor número de vértices dependiendo de la precisión que especifiquemos. Es una implementación del algoritmo de Douglas-Peucker . Consulte la página de Wikipedia para ver el algoritmo y la demostración.\n",
    "\n",
    "Para entender esto, suponga que está tratando de encontrar un cuadrado en una imagen, pero debido a algunos problemas en la imagen, no obtuvo un cuadrado perfecto, sino una \"mala forma\" (como se muestra en la primera imagen a continuación). Ahora puedes usar esta función para aproximar la forma. En esto, el segundo argumento se llama épsilon, que es la distancia máxima desde el contorno hasta el contorno aproximado. Es un parámetro de precisión. Se necesita una selección inteligente de épsilon para obtener el resultado correcto."
   ]
  },
  {
   "cell_type": "code",
   "execution_count": null,
   "metadata": {},
   "outputs": [],
   "source": [
    "epsilon = 0.1*cv.arcLength(cnt,True)\n",
    "approx = cv.approxPolyDP(cnt,epsilon,True)"
   ]
  },
  {
   "cell_type": "markdown",
   "metadata": {},
   "source": [
    "5. Casco convexo\n",
    "Convex Hull se verá similar a la aproximación de contorno, pero no lo es (ambos pueden proporcionar los mismos resultados en algunos casos). Aquí, la función cv.convexHull() comprueba una curva en busca de defectos de convexidad y la corrige. En términos generales, las curvas convexas son curvas que siempre están abultadas o al menos planas. Y si está abultado por dentro se llama defectos de convexidad. Por ejemplo, consulte la siguiente imagen de la mano. La línea roja muestra el casco convexo de la mano. Las marcas de flecha de doble cara muestran los defectos de convexidad, que son las desviaciones máximas locales del casco respecto de los contornos."
   ]
  },
  {
   "cell_type": "code",
   "execution_count": null,
   "metadata": {},
   "outputs": [],
   "source": [
    "hull = cv.convexHull(points[, hull[, clockwise[, returnPoints]]])\n"
   ]
  },
  {
   "cell_type": "markdown",
   "metadata": {},
   "source": [
    "Los puntos son los contornos por los que pasamos.\n",
    "El casco es la salida, normalmente lo evitamos.\n",
    "en el sentido de las agujas del reloj : bandera de orientación. Si es Verdadero, el casco convexo de salida está orientado en el sentido de las agujas del reloj. De lo contrario, se orienta en el sentido contrario a las agujas del reloj.\n",
    "returnPoints : De forma predeterminada, Verdadero. Luego devuelve las coordenadas de los puntos del casco. Si es False, devuelve los índices de los puntos de contorno correspondientes a los puntos del casco."
   ]
  },
  {
   "cell_type": "code",
   "execution_count": null,
   "metadata": {},
   "outputs": [],
   "source": [
    "hull = cv.convexHull(cnt)\n"
   ]
  },
  {
   "cell_type": "markdown",
   "metadata": {},
   "source": [
    "6. Comprobando la convexidad\n",
    "Existe una función para comprobar si una curva es convexa o no, cv.isContourConvex() . Simplemente devuelve ya sea Verdadero o Falso. No es un gran trato."
   ]
  },
  {
   "cell_type": "code",
   "execution_count": null,
   "metadata": {},
   "outputs": [],
   "source": [
    "k = cv.isContourConvex(cnt)\n"
   ]
  },
  {
   "cell_type": "markdown",
   "metadata": {},
   "source": [
    "7. Rectángulo delimitador\n",
    "Hay dos tipos de rectángulos delimitadores."
   ]
  },
  {
   "cell_type": "markdown",
   "metadata": {},
   "source": [
    "7.a. Rectángulo delimitador recto\n",
    "Es un rectángulo recto, no considera la rotación del objeto. Entonces el área del rectángulo delimitador no será mínima. Se encuentra mediante la función cv.boundingRect() .\n",
    "\n",
    "Sea (x,y) la coordenada superior izquierda del rectángulo y (w,h) su ancho y alto."
   ]
  },
  {
   "cell_type": "code",
   "execution_count": null,
   "metadata": {},
   "outputs": [],
   "source": [
    "x,y,w,h = cv.boundingRect(cnt)\n",
    "cv.rectangle(img,(x,y),(x+w,y+h),(0,255,0),2)"
   ]
  },
  {
   "cell_type": "markdown",
   "metadata": {},
   "source": [
    "7.b. Rectángulo girado\n",
    "Aquí, el rectángulo delimitador se dibuja con un área mínima, por lo que también considera la rotación. La función utilizada es cv.minAreaRect() . Devuelve una estructura Box2D que contiene los siguientes detalles: (centro (x,y), (ancho, alto), ángulo de rotación). Pero para dibujar este rectángulo, necesitamos 4 esquinas del rectángulo. Se obtiene mediante la función cv.boxPoints()"
   ]
  },
  {
   "cell_type": "code",
   "execution_count": null,
   "metadata": {},
   "outputs": [],
   "source": [
    "rect = cv.minAreaRect(cnt)\n",
    "box = cv.boxPoints(rect)\n",
    "box = np.int0(box)\n",
    "cv.drawContours(img,[box],0,(0,0,255),2)"
   ]
  },
  {
   "cell_type": "markdown",
   "metadata": {},
   "source": [
    "8. Círculo envolvente mínimo\n",
    "A continuación encontramos el círculo circunstante de un objeto usando la función cv.minEnclosingCircle() . Es un círculo que cubre completamente el objeto con un área mínima."
   ]
  },
  {
   "cell_type": "code",
   "execution_count": null,
   "metadata": {},
   "outputs": [],
   "source": [
    "(x,y),radius = cv.minEnclosingCircle(cnt)\n",
    "center = (int(x),int(y))\n",
    "radius = int(radius)\n",
    "cv.circle(img,center,radius,(0,255,0),2)"
   ]
  },
  {
   "cell_type": "markdown",
   "metadata": {},
   "source": [
    "9. Ajustar una elipse\n",
    "El siguiente es ajustar una elipse a un objeto. Devuelve el rectángulo rotado en el que está inscrita la elipse."
   ]
  },
  {
   "cell_type": "code",
   "execution_count": null,
   "metadata": {},
   "outputs": [],
   "source": [
    "ellipse = cv.fitEllipse(cnt)\n",
    "cv.ellipse(img,ellipse,(0,255,0),2)"
   ]
  },
  {
   "cell_type": "markdown",
   "metadata": {},
   "source": [
    "10. Colocar una línea\n",
    "De manera similar podemos ajustar una línea a un conjunto de puntos. La imagen de abajo contiene un conjunto de puntos blancos. Podemos aproximarle una línea recta"
   ]
  },
  {
   "cell_type": "code",
   "execution_count": null,
   "metadata": {},
   "outputs": [],
   "source": [
    "rows,cols = img.shape[:2]\n",
    "[vx,vy,x,y] = cv.fitLine(cnt, cv.DIST_L2,0,0.01,0.01)\n",
    "lefty = int((-x*vy/vx) + y)\n",
    "righty = int(((cols-x)*vy/vx)+y)\n",
    "cv.line(img,(cols-1,righty),(0,lefty),(0,255,0),2)"
   ]
  }
 ],
 "metadata": {
  "kernelspec": {
   "display_name": "tf",
   "language": "python",
   "name": "python3"
  },
  "language_info": {
   "name": "python",
   "version": "3.9.18"
  }
 },
 "nbformat": 4,
 "nbformat_minor": 2
}
