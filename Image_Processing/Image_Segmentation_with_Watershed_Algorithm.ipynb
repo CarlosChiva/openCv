{
 "cells": [
  {
   "cell_type": "markdown",
   "metadata": {},
   "source": [
    "Cualquier imagen en escala de grises puede verse como una superficie topográfica donde la alta intensidad denota picos y colinas, mientras que la baja intensidad denota valles. Comienzas a llenar cada valle aislado (mínimos locales) con agua de diferentes colores (etiquetas). A medida que el agua sube, dependiendo de los picos (gradientes) cercanos, el agua de diferentes valles, obviamente con diferentes colores, comenzará a fusionarse. Para evitarlo, construyes barreras en los lugares donde el agua se fusiona. Continúas el trabajo de llenar de agua y construir barreras hasta que todos los picos estén bajo el agua. Luego, las barreras que creaste te dan el resultado de la segmentación. Ésta es la \"filosofía\" detrás de la cuenca. Puede visitar la página web del CMM sobre cuencas para comprenderla con la ayuda de algunas animaciones."
   ]
  },
  {
   "cell_type": "markdown",
   "metadata": {},
   "source": [
    "Comenzamos encontrando una estimación aproximada de las monedas. Para eso, podemos usar la binarización de Otsu."
   ]
  },
  {
   "cell_type": "code",
   "execution_count": null,
   "metadata": {},
   "outputs": [],
   "source": [
    "import numpy as np\n",
    "import cv2 as cv\n",
    "from matplotlib import pyplot as plt\n",
    "img = cv.imread('resources/coins.png')\n",
    "assert img is not None, \"file could not be read, check with os.path.exists()\"\n",
    "gray = cv.cvtColor(img,cv.COLOR_BGR2GRAY)\n",
    "ret, thresh = cv.threshold(gray,0,255,cv.THRESH_BINARY_INV+cv.THRESH_OTSU)"
   ]
  },
  {
   "cell_type": "markdown",
   "metadata": {},
   "source": [
    "Las regiones restantes son aquellas de las que no tenemos idea, ya sean monedas o antecedentes. El algoritmo de cuenca debería encontrarlo. Estas áreas normalmente se encuentran alrededor de los límites de las monedas, donde se encuentran el primer plano y el fondo (o incluso dos monedas diferentes). Lo llamamos frontera. Se puede obtener restando el área sure_fg del área sure_bg."
   ]
  },
  {
   "cell_type": "code",
   "execution_count": null,
   "metadata": {},
   "outputs": [],
   "source": [
    "# noise removal\n",
    "kernel = np.ones((3,3),np.uint8)\n",
    "opening = cv.morphologyEx(thresh,cv.MORPH_OPEN,kernel, iterations = 2)\n",
    "# sure background area\n",
    "sure_bg = cv.dilate(opening,kernel,iterations=3)\n",
    "# Finding sure foreground area\n",
    "dist_transform = cv.distanceTransform(opening,cv.DIST_L2,5)\n",
    "ret, sure_fg = cv.threshold(dist_transform,0.7*dist_transform.max(),255,0)\n",
    "# Finding unknown region\n",
    "sure_fg = np.uint8(sure_fg)\n",
    "unknown = cv.subtract(sure_bg,sure_fg)"
   ]
  },
  {
   "cell_type": "markdown",
   "metadata": {},
   "source": [
    "Ahora sabemos con seguridad cuáles son las regiones de las monedas, cuáles son el fondo y todo. Entonces creamos un marcador (es una matriz del mismo tamaño que la imagen original, pero con el tipo de datos int32) y etiquetamos las regiones dentro de él. Las regiones que conocemos con seguridad (ya sea en primer plano o en segundo plano) están etiquetadas con números enteros positivos, pero enteros diferentes, y el área que no sabemos con seguridad simplemente se deja como cero. Para esto usamos cv.connectedComponents() . Etiqueta el fondo de la imagen con 0, luego otros objetos se etiquetan con números enteros a partir de 1.\n",
    "\n",
    "Pero sabemos que si el fondo está marcado con 0, la cuenca lo considerará un área desconocida. Por eso queremos marcarlo con un número entero diferente. En su lugar, marcaremos la región desconocida, definida por desconocido, con 0."
   ]
  },
  {
   "cell_type": "code",
   "execution_count": null,
   "metadata": {},
   "outputs": [],
   "source": [
    "# Marker labelling\n",
    "ret, markers = cv.connectedComponents(sure_fg)\n",
    "# Add one to all labels so that sure background is not 0, but 1\n",
    "markers = markers+1\n",
    "# Now, mark the region of unknown with zero\n",
    "markers[unknown==255] = 0"
   ]
  },
  {
   "cell_type": "markdown",
   "metadata": {},
   "source": [
    "Ahora nuestro marcador está listo. Es hora del paso final: aplicar la cuenca hidrográfica. Luego se modificará la imagen del marcador. La región límite se marcará con -1."
   ]
  },
  {
   "cell_type": "code",
   "execution_count": null,
   "metadata": {},
   "outputs": [],
   "source": [
    "markers = cv.watershed(img,markers)\n",
    "img[markers == -1] = [255,0,0]"
   ]
  },
  {
   "cell_type": "markdown",
   "metadata": {},
   "source": [
    "Exercise"
   ]
  },
  {
   "cell_type": "code",
   "execution_count": null,
   "metadata": {},
   "outputs": [],
   "source": [
    "#!/usr/bin/env python\n",
    "\n",
    "'''\n",
    "Watershed segmentation\n",
    "=========\n",
    "\n",
    "This program demonstrates the watershed segmentation algorithm\n",
    "in OpenCV: watershed().\n",
    "\n",
    "Usage\n",
    "-----\n",
    "watershed.py [image filename]\n",
    "\n",
    "Keys\n",
    "----\n",
    "  1-7   - switch marker color\n",
    "  SPACE - update segmentation\n",
    "  r     - reset\n",
    "  a     - toggle autoupdate\n",
    "  ESC   - exit\n",
    "\n",
    "'''\n",
    "\n",
    "\n",
    "# Python 2/3 compatibility\n",
    "from __future__ import print_function\n",
    "\n",
    "import numpy as np\n",
    "import cv2 as cv\n",
    "from common import Sketcher\n",
    "\n",
    "class App:\n",
    "    def __init__(self, fn):\n",
    "        self.img = cv.imread(fn)\n",
    "        if self.img is None:\n",
    "            raise Exception('Failed to load image file: %s' % fn)\n",
    "\n",
    "        h, w = self.img.shape[:2]\n",
    "        self.markers = np.zeros((h, w), np.int32)\n",
    "        self.markers_vis = self.img.copy()\n",
    "        self.cur_marker = 1\n",
    "        self.colors = np.int32( list(np.ndindex(2, 2, 2)) ) * 255\n",
    "\n",
    "        self.auto_update = True\n",
    "        self.sketch = Sketcher('img', [self.markers_vis, self.markers], self.get_colors)\n",
    "\n",
    "    def get_colors(self):\n",
    "        return list(map(int, self.colors[self.cur_marker])), self.cur_marker\n",
    "\n",
    "    def watershed(self):\n",
    "        m = self.markers.copy()\n",
    "        cv.watershed(self.img, m)\n",
    "        overlay = self.colors[np.maximum(m, 0)]\n",
    "        vis = cv.addWeighted(self.img, 0.5, overlay, 0.5, 0.0, dtype=cv.CV_8UC3)\n",
    "        cv.imshow('watershed', vis)\n",
    "\n",
    "    def run(self):\n",
    "        while cv.getWindowProperty('img', 0) != -1 or cv.getWindowProperty('watershed', 0) != -1:\n",
    "            ch = cv.waitKey(50)\n",
    "            if ch == 27:\n",
    "                break\n",
    "            if ch >= ord('1') and ch <= ord('7'):\n",
    "                self.cur_marker = ch - ord('0')\n",
    "                print('marker: ', self.cur_marker)\n",
    "            if ch == ord(' ') or (self.sketch.dirty and self.auto_update):\n",
    "                self.watershed()\n",
    "                self.sketch.dirty = False\n",
    "            if ch in [ord('a'), ord('A')]:\n",
    "                self.auto_update = not self.auto_update\n",
    "                print('auto_update if', ['off', 'on'][self.auto_update])\n",
    "            if ch in [ord('r'), ord('R')]:\n",
    "                self.markers[:] = 0\n",
    "                self.markers_vis[:] = self.img\n",
    "                self.sketch.show()\n",
    "        cv.destroyAllWindows()\n",
    "\n",
    "\n",
    "if __name__ == '__main__':\n",
    "    print(__doc__)\n",
    "    import sys\n",
    "    try:\n",
    "        fn = sys.argv[1]\n",
    "    except:\n",
    "        fn = 'fruits.jpg'\n",
    "    App(cv.samples.findFile(fn)).run()"
   ]
  }
 ],
 "metadata": {
  "language_info": {
   "name": "python"
  }
 },
 "nbformat": 4,
 "nbformat_minor": 2
}
