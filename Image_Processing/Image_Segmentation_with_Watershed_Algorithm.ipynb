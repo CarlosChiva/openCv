{
 "cells": [
  {
   "cell_type": "markdown",
   "metadata": {},
   "source": [
    "Cualquier imagen en escala de grises puede verse como una superficie topográfica donde la alta intensidad denota picos y colinas, mientras que la baja intensidad denota valles. Comienzas a llenar cada valle aislado (mínimos locales) con agua de diferentes colores (etiquetas). A medida que el agua sube, dependiendo de los picos (gradientes) cercanos, el agua de diferentes valles, obviamente con diferentes colores, comenzará a fusionarse. Para evitarlo, construyes barreras en los lugares donde el agua se fusiona. Continúas el trabajo de llenar de agua y construir barreras hasta que todos los picos estén bajo el agua. Luego, las barreras que creaste te dan el resultado de la segmentación. Ésta es la \"filosofía\" detrás de la cuenca. Puede visitar la página web del CMM sobre cuencas para comprenderla con la ayuda de algunas animaciones."
   ]
  },
  {
   "cell_type": "markdown",
   "metadata": {},
   "source": [
    "Comenzamos encontrando una estimación aproximada de las monedas. Para eso, podemos usar la binarización de Otsu."
   ]
  },
  {
   "cell_type": "code",
   "execution_count": 2,
   "metadata": {},
   "outputs": [],
   "source": [
    "import numpy as np\n",
    "import cv2 as cv\n",
    "from matplotlib import pyplot as plt\n",
    "img = cv.imread('resources/coins.jpg')\n",
    "assert img is not None, \"file could not be read, check with os.path.exists()\"\n",
    "gray = cv.cvtColor(img,cv.COLOR_BGR2GRAY)\n",
    "ret, thresh = cv.threshold(gray,0,255,cv.THRESH_BINARY_INV+cv.THRESH_OTSU)"
   ]
  },
  {
   "cell_type": "markdown",
   "metadata": {},
   "source": [
    "Las regiones restantes son aquellas de las que no tenemos idea, ya sean monedas o antecedentes. El algoritmo de cuenca debería encontrarlo. Estas áreas normalmente se encuentran alrededor de los límites de las monedas, donde se encuentran el primer plano y el fondo (o incluso dos monedas diferentes). Lo llamamos frontera. Se puede obtener restando el área sure_fg del área sure_bg."
   ]
  },
  {
   "cell_type": "code",
   "execution_count": 3,
   "metadata": {},
   "outputs": [],
   "source": [
    "# noise removal\n",
    "kernel = np.ones((3,3),np.uint8)\n",
    "opening = cv.morphologyEx(thresh,cv.MORPH_OPEN,kernel, iterations = 2)\n",
    "# sure background area\n",
    "sure_bg = cv.dilate(opening,kernel,iterations=3)\n",
    "# Finding sure foreground area\n",
    "dist_transform = cv.distanceTransform(opening,cv.DIST_L2,5)\n",
    "ret, sure_fg = cv.threshold(dist_transform,0.7*dist_transform.max(),255,0)\n",
    "# Finding unknown region\n",
    "sure_fg = np.uint8(sure_fg)\n",
    "unknown = cv.subtract(sure_bg,sure_fg)"
   ]
  },
  {
   "cell_type": "markdown",
   "metadata": {},
   "source": [
    "Ahora sabemos con seguridad cuáles son las regiones de las monedas, cuáles son el fondo y todo. Entonces creamos un marcador (es una matriz del mismo tamaño que la imagen original, pero con el tipo de datos int32) y etiquetamos las regiones dentro de él. Las regiones que conocemos con seguridad (ya sea en primer plano o en segundo plano) están etiquetadas con números enteros positivos, pero enteros diferentes, y el área que no sabemos con seguridad simplemente se deja como cero. Para esto usamos cv.connectedComponents() . Etiqueta el fondo de la imagen con 0, luego otros objetos se etiquetan con números enteros a partir de 1.\n",
    "\n",
    "Pero sabemos que si el fondo está marcado con 0, la cuenca lo considerará un área desconocida. Por eso queremos marcarlo con un número entero diferente. En su lugar, marcaremos la región desconocida, definida por desconocido, con 0."
   ]
  },
  {
   "cell_type": "code",
   "execution_count": 4,
   "metadata": {},
   "outputs": [],
   "source": [
    "# Marker labelling\n",
    "ret, markers = cv.connectedComponents(sure_fg)\n",
    "# Add one to all labels so that sure background is not 0, but 1\n",
    "markers = markers+1\n",
    "# Now, mark the region of unknown with zero\n",
    "markers[unknown==255] = 0"
   ]
  },
  {
   "cell_type": "markdown",
   "metadata": {},
   "source": [
    "Ahora nuestro marcador está listo. Es hora del paso final: aplicar la cuenca hidrográfica. Luego se modificará la imagen del marcador. La región límite se marcará con -1."
   ]
  },
  {
   "cell_type": "code",
   "execution_count": 5,
   "metadata": {},
   "outputs": [],
   "source": [
    "markers = cv.watershed(img,markers)\n",
    "img[markers == -1] = [255,0,0]"
   ]
  }
 ],
 "metadata": {
  "kernelspec": {
   "display_name": "tf",
   "language": "python",
   "name": "python3"
  },
  "language_info": {
   "codemirror_mode": {
    "name": "ipython",
    "version": 3
   },
   "file_extension": ".py",
   "mimetype": "text/x-python",
   "name": "python",
   "nbconvert_exporter": "python",
   "pygments_lexer": "ipython3",
   "version": "3.9.18"
  }
 },
 "nbformat": 4,
 "nbformat_minor": 2
}
