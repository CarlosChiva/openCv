{
 "cells": [
  {
   "cell_type": "markdown",
   "metadata": {},
   "source": [
    "Las transformaciones morfológicas son algunas operaciones simples basadas en la forma de la imagen. Normalmente se realiza en imágenes binarias. Necesita dos entradas, una es nuestra imagen original, la segunda se llama elemento estructurante o núcleo que decide la naturaleza de la operación. Dos operadores morfológicos básicos son la Erosión y la Dilatación. Entonces también entran en juego sus variantes como Apertura, Cierre, Degradado, etc. Los veremos uno por uno con la ayuda de la siguiente imagen:"
   ]
  },
  {
   "cell_type": "code",
   "execution_count": null,
   "metadata": {},
   "outputs": [],
   "source": [
    "import cv2 as cv\n",
    "import numpy as np\n",
    "img = cv.imread('j.png', cv.IMREAD_GRAYSCALE)\n",
    "assert img is not None, \"file could not be read, check with os.path.exists()\"\n",
    "kernel = np.ones((5,5),np.uint8)\n",
    "erosion = cv.erode(img,kernel,iterations = 1)"
   ]
  },
  {
   "cell_type": "markdown",
   "metadata": {},
   "source": [
    "2. Dilatación\n",
    "\n",
    "Es justo lo contrario de la erosión. Aquí, un elemento de píxel es '1' si al menos un píxel bajo el núcleo es '1'. Por lo tanto, aumenta la región blanca en la imagen o aumenta el tamaño del objeto en primer plano. Normalmente, en casos como la eliminación de ruido, a la erosión le sigue la dilatación. Porque la erosión elimina los ruidos blancos, pero también encoge nuestro objeto. Entonces lo dilatamos. Como el ruido desaparece, no volverán, pero el área de nuestro objeto aumenta. También es útil para unir partes rotas de un objeto."
   ]
  },
  {
   "cell_type": "code",
   "execution_count": null,
   "metadata": {},
   "outputs": [],
   "source": [
    "dilation = cv.dilate(img,kernel,iterations = 1)"
   ]
  },
  {
   "cell_type": "markdown",
   "metadata": {},
   "source": [
    "3. Apertura\n",
    "\n",
    "La apertura es sólo otro nombre de la erosión seguida de dilatación . Es útil para eliminar el ruido, como explicamos anteriormente. Aquí usamos la función cv.morphologyEx()"
   ]
  },
  {
   "cell_type": "code",
   "execution_count": null,
   "metadata": {},
   "outputs": [],
   "source": [
    "opening = cv.morphologyEx(img, cv.MORPH_OPEN, kernel)"
   ]
  },
  {
   "cell_type": "markdown",
   "metadata": {},
   "source": [
    "4. Cierre\n",
    "\n",
    "El cierre es lo contrario de la apertura, la dilatación seguida de la erosión . Es útil para cerrar pequeños agujeros dentro de los objetos en primer plano o pequeños puntos negros en el objeto."
   ]
  },
  {
   "cell_type": "code",
   "execution_count": null,
   "metadata": {},
   "outputs": [],
   "source": [
    "closing = cv.morphologyEx(img, cv.MORPH_CLOSE, kernel)\n"
   ]
  },
  {
   "cell_type": "markdown",
   "metadata": {},
   "source": [
    "5. gradiente morfológico\n",
    "\n",
    "Es la diferencia entre dilatación y erosión de una imagen.\n",
    "\n",
    "El resultado se parecerá al contorno del objeto.\n",
    "\n"
   ]
  },
  {
   "cell_type": "code",
   "execution_count": null,
   "metadata": {},
   "outputs": [],
   "source": [
    "gradient = cv.morphologyEx(img, cv.MORPH_GRADIENT, kernel)\n"
   ]
  },
  {
   "cell_type": "markdown",
   "metadata": {},
   "source": [
    "6. Sombrero de copa\n",
    "\n",
    "Es la diferencia entre imagen de entrada y apertura de la imagen. El siguiente ejemplo se realiza para un kernel 9x9."
   ]
  },
  {
   "cell_type": "code",
   "execution_count": null,
   "metadata": {},
   "outputs": [],
   "source": [
    "tophat = cv.morphologyEx(img, cv.MORPH_TOPHAT, kernel)\n"
   ]
  },
  {
   "cell_type": "markdown",
   "metadata": {},
   "source": [
    "7. Sombrero negro\n",
    "\n",
    "Es la diferencia entre el cierre de la imagen de entrada y la imagen de entrada."
   ]
  },
  {
   "cell_type": "code",
   "execution_count": null,
   "metadata": {},
   "outputs": [],
   "source": [
    "blackhat = cv.morphologyEx(img, cv.MORPH_BLACKHAT, kernel)\n"
   ]
  },
  {
   "cell_type": "markdown",
   "metadata": {},
   "source": [
    "Elemento Estructurante\n",
    "Creamos manualmente elementos estructurantes en los ejemplos anteriores con la ayuda de Numpy. Es de forma rectangular. Pero en algunos casos, es posible que necesites granos de forma elíptica o circular. Entonces, para este propósito, OpenCV tiene una función, cv.getStructuringElement() . Simplemente pasas la forma y el tamaño del grano y obtienes el grano deseado."
   ]
  },
  {
   "cell_type": "code",
   "execution_count": null,
   "metadata": {},
   "outputs": [],
   "source": [
    "# Rectangular Kernel\n",
    "cv.getStructuringElement(cv.MORPH_RECT,(5,5))\n",
    "# Elliptical Kernel\n",
    "cv.getStructuringElement(cv.MORPH_ELLIPSE,(5,5))\n",
    "# Cross-shaped Kernel\n",
    "cv.getStructuringElement(cv.MORPH_CROSS,(5,5))\n"
   ]
  }
 ],
 "metadata": {
  "language_info": {
   "name": "python"
  }
 },
 "nbformat": 4,
 "nbformat_minor": 2
}
