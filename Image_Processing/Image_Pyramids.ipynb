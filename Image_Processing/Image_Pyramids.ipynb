{
 "cells": [
  {
   "cell_type": "code",
   "execution_count": 1,
   "metadata": {},
   "outputs": [],
   "source": [
    "import cv2 as cv\n"
   ]
  },
  {
   "cell_type": "markdown",
   "metadata": {},
   "source": [
    "Normalmente trabajábamos con una imagen de tamaño constante. Pero en algunas ocasiones necesitamos trabajar con (las mismas) imágenes en diferente resolución. Por ejemplo, mientras buscamos algo en una imagen, como una cara, no estamos seguros de qué tamaño estará presente el objeto en dicha imagen. En ese caso, necesitaremos crear un conjunto de la misma imagen con diferentes resoluciones y buscar objetos en todas ellas. Este conjunto de imágenes con diferentes resoluciones se denominan pirámides de imágenes (porque cuando se mantienen en una pila con la imagen de mayor resolución en la parte inferior y la imagen de menor resolución en la parte superior, parece una pirámide).\n",
    "\n",
    "Hay dos tipos de pirámides de imágenes. 1) Pirámide Gaussiana y 2) Pirámides Laplacianas\n",
    "\n",
    "El nivel superior (baja resolución) en una pirámide gaussiana se forma eliminando filas y columnas consecutivas en una imagen de nivel inferior (mayor resolución). Luego, cada píxel en el nivel superior está formado por la contribución de 5 píxeles en el nivel subyacente con pesos gaussianos. Al hacerlo, unMETRO× nortela imagen se convierteMETRO/ 2×norte/ 2imagen. Entonces el área se reduce a un cuarto del área original. Se llama Octava. El mismo patrón continúa a medida que ascendemos en la pirámide (es decir, la resolución disminuye). De manera similar, mientras se expande, el área se multiplica por 4 en cada nivel. Podemos encontrar pirámides gaussianas usando las funciones cv.pyrDown() y cv.pyrUp() ."
   ]
  },
  {
   "cell_type": "code",
   "execution_count": null,
   "metadata": {},
   "outputs": [],
   "source": [
    "img = cv.imread('resources/messi5.jpg')\n",
    "assert img is not None, \"file could not be read, check with os.path.exists()\"\n",
    "lower_reso = cv.pyrDown(higher_reso)"
   ]
  },
  {
   "cell_type": "markdown",
   "metadata": {},
   "source": [
    "Ahora puedes bajar por la pirámide de imágenes con la función cv.pyrUp() ."
   ]
  },
  {
   "cell_type": "code",
   "execution_count": null,
   "metadata": {},
   "outputs": [],
   "source": [
    "higher_reso2 = cv.pyrUp(lower_reso)"
   ]
  },
  {
   "cell_type": "markdown",
   "metadata": {},
   "source": [
    "Mezcla de imágenes usando pirámides.\n",
    "\n",
    "Una aplicación de Pyramids es Image Blending. Por ejemplo, al unir imágenes, necesitará apilar dos imágenes juntas, pero es posible que no se vea bien debido a las discontinuidades entre las imágenes. En ese caso, la combinación de imágenes con Pyramids le brinda una combinación perfecta sin dejar muchos datos en las imágenes. Un ejemplo clásico de esto es la mezcla de dos frutas, naranja y manzana. Vea el resultado ahora para entender lo que estoy diciendo:"
   ]
  },
  {
   "cell_type": "code",
   "execution_count": 10,
   "metadata": {},
   "outputs": [
    {
     "data": {
      "text/plain": [
       "True"
      ]
     },
     "execution_count": 10,
     "metadata": {},
     "output_type": "execute_result"
    }
   ],
   "source": [
    "import cv2 as cv\n",
    "import numpy as np,sys\n",
    "A = cv.imread('resources/apple.jpg')\n",
    "B = cv.imread('resources/orange.jpg')\n",
    "assert A is not None, \"file could not be read, check with os.path.exists()\"\n",
    "assert B is not None, \"file could not be read, check with os.path.exists()\"\n",
    "# generate Gaussian pyramid for A\n",
    "G = A.copy()\n",
    "gpA = [G]\n",
    "for i in range(6):\n",
    "    G = cv.pyrDown(G)\n",
    "    gpA.append(G)\n",
    "# generate Gaussian pyramid for B\n",
    "G = B.copy()\n",
    "gpB = [G]\n",
    "for i in range(6):\n",
    "    G = cv.pyrDown(G)\n",
    "    gpB.append(G)\n",
    "# generate Laplacian Pyramid for A\n",
    "lpA = [gpA[5]]\n",
    "for i in range(5,0,-1):\n",
    "    GE = cv.pyrUp(gpA[i])\n",
    "    L = cv.subtract(gpA[i-1],GE)\n",
    "    lpA.append(L)\n",
    "# generate Laplacian Pyramid for B\n",
    "lpB = [gpB[5]]\n",
    "for i in range(5,0,-1):\n",
    "    GE = cv.pyrUp(gpB[i])\n",
    "    L = cv.subtract(gpB[i-1],GE)\n",
    "    lpB.append(L)\n",
    "# Now add left and right halves of images in each level\n",
    "LS = []\n",
    "for la,lb in zip(lpA,lpB):\n",
    "    rows,cols,dpt = la.shape\n",
    "    ls = np.hstack((la[:,0:cols//2], lb[:,cols//2:]))\n",
    "    LS.append(ls)\n",
    "# now reconstruct\n",
    "ls_ = LS[0]\n",
    "for i in range(1,6):\n",
    "    ls_ = cv.pyrUp(ls_)\n",
    "    ls_ = cv.add(ls_, LS[i])\n",
    "# image with direct connecting each half\n",
    "real = np.hstack((A[:,:cols//2],B[:,cols//2:]))\n",
    "cv.imwrite('resources/Pyramid_blending2.jpg',ls_)\n",
    "cv.imwrite('resources/Direct_blending.jpg',real)\n"
   ]
  }
 ],
 "metadata": {
  "kernelspec": {
   "display_name": "tf",
   "language": "python",
   "name": "python3"
  },
  "language_info": {
   "codemirror_mode": {
    "name": "ipython",
    "version": 3
   },
   "file_extension": ".py",
   "mimetype": "text/x-python",
   "name": "python",
   "nbconvert_exporter": "python",
   "pygments_lexer": "ipython3",
   "version": "3.9.18"
  }
 },
 "nbformat": 4,
 "nbformat_minor": 2
}
