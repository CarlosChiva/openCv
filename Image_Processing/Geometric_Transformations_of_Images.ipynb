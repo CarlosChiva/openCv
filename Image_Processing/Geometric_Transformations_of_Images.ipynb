{
 "cells": [
  {
   "cell_type": "code",
   "execution_count": null,
   "metadata": {},
   "outputs": [],
   "source": []
  },
  {
   "cell_type": "markdown",
   "metadata": {},
   "source": [
    "Transformaciones.\n",
    "\n",
    "OpenCV proporciona dos funciones de transformación, cv.warpAffine y cv.warpPerspective , con las que puedes realizar todo tipo de transformaciones. cv.warpAffine toma una matriz de transformación de 2x3 mientras que cv.warpPerspective toma una matriz de transformación de 3x3 como entrada."
   ]
  },
  {
   "cell_type": "markdown",
   "metadata": {},
   "source": [
    "Escalada.\n",
    "\n",
    "Escalar es simplemente cambiar el tamaño de la imagen. OpenCV viene con una función cv.resize() para este propósito. El tamaño de la imagen se puede especificar manualmente o puede especificar el factor de escala. Se utilizan diferentes métodos de interpolación. Los métodos de interpolación preferibles son cv.INTER_AREA para reducir y cv.INTER_CUBIC (lento) y cv.INTER_LINEAR para hacer zoom. De forma predeterminada, el método de interpolación cv.INTER_LINEAR se utiliza para todos los propósitos de cambio de tamaño. Puede cambiar el tamaño de una imagen de entrada con cualquiera de los siguientes métodos:"
   ]
  },
  {
   "cell_type": "code",
   "execution_count": null,
   "metadata": {},
   "outputs": [],
   "source": [
    "import numpy as np\n",
    "import cv2 as cv\n",
    "img = cv.imread('resources/messi5.jpg')\n",
    "assert img is not None, \"file could not be read, check with os.path.exists()\"\n",
    "res = cv.resize(img,None,fx=2, fy=2, interpolation = cv.INTER_CUBIC)\n",
    "#OR\n",
    "height, width = img.shape[:2]\n",
    "res = cv.resize(img,(2*width, 2*height), interpolation = cv.INTER_CUBIC)"
   ]
  },
  {
   "cell_type": "markdown",
   "metadata": {},
   "source": [
    "Traducción:\n",
    "\n",
    "La traducción es el cambio de ubicación de un objeto. Si conoce el desplazamiento en la dirección (x,y) y déjelo ser(tX,ty), puedes crear la matriz de transformación."
   ]
  },
  {
   "cell_type": "code",
   "execution_count": null,
   "metadata": {},
   "outputs": [],
   "source": [
    "import numpy as np\n",
    "import cv2 as cv\n",
    "img = cv.imread('resources/messi5.jpg', cv.IMREAD_GRAYSCALE)\n",
    "assert img is not None, \"file could not be read, check with os.path.exists()\"\n",
    "rows,cols = img.shape\n",
    "M = np.float32([[1,0,100],[0,1,50]])\n",
    "dst = cv.warpAffine(img,M,(cols,rows))\n",
    "cv.imshow('img',dst)\n",
    "cv.waitKey(0)\n",
    "cv.destroyAllWindows()"
   ]
  },
  {
   "cell_type": "markdown",
   "metadata": {},
   "source": [
    "Rotación:\n",
    "\n",
    "Para encontrar esta matriz de transformación, OpenCV proporciona una función, cv.getRotationMatrix2D . Consulte el siguiente ejemplo que gira la imagen 90 grados con respecto al centro sin ninguna escala."
   ]
  },
  {
   "cell_type": "code",
   "execution_count": null,
   "metadata": {},
   "outputs": [],
   "source": [
    "img = cv.imread('resources/messi5.jpg', cv.IMREAD_GRAYSCALE)\n",
    "assert img is not None, \"file could not be read, check with os.path.exists()\"\n",
    "rows,cols = img.shape\n",
    "# cols-1 and rows-1 are the coordinate limits.\n",
    "M = cv.getRotationMatrix2D(((cols-1)/2.0,(rows-1)/2.0),90,1)\n",
    "dst = cv.warpAffine(img,M,(cols,rows))"
   ]
  },
  {
   "cell_type": "markdown",
   "metadata": {},
   "source": [
    "Transformacion afin:\n",
    "\n",
    "En la transformación afín, todas las líneas paralelas de la imagen original seguirán siendo paralelas en la imagen de salida. Para encontrar la matriz de transformación, necesitamos tres puntos de la imagen de entrada y sus ubicaciones correspondientes en la imagen de salida. Luego, cv.getAffineTransform creará una matriz de 2x3 que se pasará a cv.warpAffine .\n",
    "\n",
    "Consulte el siguiente ejemplo y observe también los puntos que seleccioné (que están marcados en color verde):"
   ]
  },
  {
   "cell_type": "code",
   "execution_count": null,
   "metadata": {},
   "outputs": [],
   "source": [
    "from matplotlib import pyplot as plt\n",
    "img = cv.imread('drawing.png')\n",
    "assert img is not None, \"file could not be read, check with os.path.exists()\"\n",
    "rows,cols,ch = img.shape\n",
    "pts1 = np.float32([[50,50],[200,50],[50,200]])\n",
    "pts2 = np.float32([[10,100],[200,50],[100,250]])\n",
    "M = cv.getAffineTransform(pts1,pts2)\n",
    "dst = cv.warpAffine(img,M,(cols,rows))\n",
    "plt.subplot(121),plt.imshow(img),plt.title('Input')\n",
    "plt.subplot(122),plt.imshow(dst),plt.title('Output')\n",
    "plt.show()"
   ]
  },
  {
   "cell_type": "markdown",
   "metadata": {},
   "source": [
    "Transformación de perspectiva:\n",
    "\n",
    "Para la transformación de perspectiva, necesita una matriz de transformación de 3x3. Las líneas rectas seguirán siendo rectas incluso después de la transformación. Para encontrar esta matriz de transformación, necesita 4 puntos en la imagen de entrada y los puntos correspondientes en la imagen de salida. De estos 4 puntos, 3 de ellos no deberían ser colineales. Luego, la matriz de transformación se puede encontrar mediante la función cv.getPerspectiveTransform . Luego aplique cv.warpPerspective con esta matriz de transformación de 3x3."
   ]
  },
  {
   "cell_type": "code",
   "execution_count": null,
   "metadata": {},
   "outputs": [],
   "source": [
    "img = cv.imread('resources/sudoku.png')\n",
    "assert img is not None, \"file could not be read, check with os.path.exists()\"\n",
    "rows,cols,ch = img.shape\n",
    "pts1 = np.float32([[56,65],[368,52],[28,387],[389,390]])\n",
    "pts2 = np.float32([[0,0],[300,0],[0,300],[300,300]])\n",
    "M = cv.getPerspectiveTransform(pts1,pts2)\n",
    "dst = cv.warpPerspective(img,M,(300,300))\n",
    "plt.subplot(121),plt.imshow(img),plt.title('Input')\n",
    "plt.subplot(122),plt.imshow(dst),plt.title('Output')\n",
    "plt.show()"
   ]
  }
 ],
 "metadata": {
  "language_info": {
   "name": "python"
  }
 },
 "nbformat": 4,
 "nbformat_minor": 2
}
