{
 "cells": [
  {
   "cell_type": "markdown",
   "metadata": {},
   "source": [
    "1. Defectos de convexidad\n",
    "Vimos qué es el casco convexo en el segundo capítulo sobre contornos. Cualquier desviación del objeto de esta carcasa puede considerarse un defecto de convexidad.\n",
    "\n",
    "OpenCV viene con una función lista para encontrar esto, cv.convexityDefects() . Una llamada de función básica se vería como a continuación:"
   ]
  },
  {
   "cell_type": "code",
   "execution_count": null,
   "metadata": {},
   "outputs": [],
   "source": [
    "import cv2 as cv\n",
    "hull = cv.convexHull(cnt,returnPoints = False)\n",
    "defects = cv.convexityDefects(cnt,hull)"
   ]
  },
  {
   "cell_type": "code",
   "execution_count": null,
   "metadata": {},
   "outputs": [],
   "source": [
    "import cv2 as cv\n",
    "import numpy as np\n",
    "img = cv.imread('resources/star.png')\n",
    "assert img is not None, \"file could not be read, check with os.path.exists()\"\n",
    "img_gray = cv.cvtColor(img,cv.COLOR_BGR2GRAY)\n",
    "ret,thresh = cv.threshold(img_gray, 127, 255,0)\n",
    "contours,hierarchy = cv.findContours(thresh,2,1)\n",
    "cnt = contours[0]\n",
    "hull = cv.convexHull(cnt,returnPoints = False)\n",
    "defects = cv.convexityDefects(cnt,hull)\n",
    "for i in range(defects.shape[0]):\n",
    "    s,e,f,d = defects[i,0]\n",
    "    start = tuple(cnt[s][0])\n",
    "    end = tuple(cnt[e][0])\n",
    "    far = tuple(cnt[f][0])\n",
    "    cv.line(img,start,end,[0,255,0],2)\n",
    "    cv.circle(img,far,5,[0,0,255],-1)\n",
    "cv.imshow('img',img)\n",
    "cv.waitKey(0)\n",
    "cv.destroyAllWindows()"
   ]
  },
  {
   "cell_type": "markdown",
   "metadata": {},
   "source": [
    "2. Prueba de polígono puntual\n",
    "Esta función encuentra la distancia más corta entre un punto de la imagen y un contorno. Devuelve la distancia que es negativa cuando el punto está fuera del contorno, positiva cuando el punto está dentro y cero si el punto está en el contorno.\n",
    "\n",
    "Por ejemplo, podemos comprobar el punto (50,50) de la siguiente manera:"
   ]
  },
  {
   "cell_type": "code",
   "execution_count": null,
   "metadata": {},
   "outputs": [],
   "source": [
    "dist = cv.pointPolygonTest(cnt,(50,50),True)\n"
   ]
  },
  {
   "cell_type": "markdown",
   "metadata": {},
   "source": [
    "3. Combina formas\n",
    "OpenCV viene con una función cv.matchShapes() que nos permite comparar dos formas o dos contornos y devuelve una métrica que muestra la similitud. Cuanto menor sea el resultado, mejor será la coincidencia. Se calcula en base a los valores del momento hu. En los documentos se explican diferentes métodos de medición."
   ]
  },
  {
   "cell_type": "code",
   "execution_count": null,
   "metadata": {},
   "outputs": [],
   "source": [
    "import cv2 as cv\n",
    "import numpy as np\n",
    "img1 = cv.imread('resources/star.jpg', cv.IMREAD_GRAYSCALE)\n",
    "img2 = cv.imread('resources/star2.jpg', cv.IMREAD_GRAYSCALE)\n",
    "assert img1 is not None, \"file could not be read, check with os.path.exists()\"\n",
    "assert img2 is not None, \"file could not be read, check with os.path.exists()\"\n",
    "ret, thresh = cv.threshold(img1, 127, 255,0)\n",
    "ret, thresh2 = cv.threshold(img2, 127, 255,0)\n",
    "contours,hierarchy = cv.findContours(thresh,2,1)\n",
    "cnt1 = contours[0]\n",
    "contours,hierarchy = cv.findContours(thresh2,2,1)\n",
    "cnt2 = contours[0]\n",
    "ret = cv.matchShapes(cnt1,cnt2,1,0.0)\n",
    "print( ret )"
   ]
  }
 ],
 "metadata": {
  "kernelspec": {
   "display_name": "tf",
   "language": "python",
   "name": "python3"
  },
  "language_info": {
   "codemirror_mode": {
    "name": "ipython",
    "version": 3
   },
   "file_extension": ".py",
   "mimetype": "text/x-python",
   "name": "python",
   "nbconvert_exporter": "python",
   "pygments_lexer": "ipython3",
   "version": "3.9.18"
  }
 },
 "nbformat": 4,
 "nbformat_minor": 2
}
