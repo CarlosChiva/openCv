{
 "cells": [
  {
   "cell_type": "markdown",
   "metadata": {},
   "source": [
    "La Transformada de Hough es una técnica popular para detectar cualquier forma, si puedes representar esa forma en forma matemática. Puede detectar la forma incluso si está rota o distorsionada un poco. Veremos cómo funciona para una línea."
   ]
  },
  {
   "cell_type": "markdown",
   "metadata": {},
   "source": [
    "Transformación dura en OpenCV\n",
    "Se encapsula en la función OpenCV, cv.HoughLines() . Simplemente devuelve una matriz de valores :math:(rho, theta)`.ρse mide en píxeles yθse mide en radianes. El primer parámetro, la imagen de entrada debe ser una imagen binaria, por lo tanto, aplique un umbral o utilice una detección de bordes astuta antes de aplicar una transformación completa. El segundo y tercer parámetro sonρyθprecisiones respectivamente. El cuarto argumento es el umbral, que significa el voto mínimo que debe obtener para ser considerado una línea. Recuerde, la cantidad de votos depende de la cantidad de puntos en la línea. Por lo tanto, representa la longitud mínima de línea que debe detectarse."
   ]
  },
  {
   "cell_type": "code",
   "execution_count": 1,
   "metadata": {},
   "outputs": [
    {
     "data": {
      "text/plain": [
       "True"
      ]
     },
     "execution_count": 1,
     "metadata": {},
     "output_type": "execute_result"
    }
   ],
   "source": [
    "import cv2 as cv\n",
    "import numpy as np\n",
    "img = cv.imread(cv.samples.findFile('resources/sudoku.png'))\n",
    "gray = cv.cvtColor(img,cv.COLOR_BGR2GRAY)\n",
    "edges = cv.Canny(gray,50,150,apertureSize = 3)\n",
    "lines = cv.HoughLines(edges,1,np.pi/180,200)\n",
    "for line in lines:\n",
    "    rho,theta = line[0]\n",
    "    a = np.cos(theta)\n",
    "    b = np.sin(theta)\n",
    "    x0 = a*rho\n",
    "    y0 = b*rho\n",
    "    x1 = int(x0 + 1000*(-b))\n",
    "    y1 = int(y0 + 1000*(a))\n",
    "    x2 = int(x0 - 1000*(-b))\n",
    "    y2 = int(y0 - 1000*(a))\n",
    "    cv.line(img,(x1,y1),(x2,y2),(0,0,255),2)\n",
    "cv.imwrite('resources/houghlines3.jpg',img)"
   ]
  },
  {
   "cell_type": "markdown",
   "metadata": {},
   "source": [
    "Transformada probabilística de Hough.\n",
    "\n",
    "En la transformada gruesa, puedes ver que incluso para una línea con dos argumentos, se necesitan muchos cálculos. La transformada probabilística de Hough es una optimización de la transformada de Hough que vimos. No tiene en cuenta todos los puntos. En cambio, sólo se necesita un subconjunto aleatorio de puntos que sea suficiente para la detección de líneas. Sólo tenemos que disminuir el umbral. Vea la imagen a continuación que compara la transformada de Hough y la transformada probabilística de Hough en el espacio de Hough. (Imagen cortesía: página de inicio de Franck Bettinger )"
   ]
  },
  {
   "cell_type": "code",
   "execution_count": 2,
   "metadata": {},
   "outputs": [
    {
     "data": {
      "text/plain": [
       "True"
      ]
     },
     "execution_count": 2,
     "metadata": {},
     "output_type": "execute_result"
    }
   ],
   "source": [
    "import cv2 as cv\n",
    "import numpy as np\n",
    "img = cv.imread(cv.samples.findFile('resources/sudoku.png'))\n",
    "gray = cv.cvtColor(img,cv.COLOR_BGR2GRAY)\n",
    "edges = cv.Canny(gray,50,150,apertureSize = 3)\n",
    "lines = cv.HoughLinesP(edges,1,np.pi/180,100,minLineLength=100,maxLineGap=10)\n",
    "for line in lines:\n",
    "    x1,y1,x2,y2 = line[0]\n",
    "    cv.line(img,(x1,y1),(x2,y2),(0,255,0),2)\n",
    "cv.imwrite('resources/houghlines5.jpg',img)"
   ]
  }
 ],
 "metadata": {
  "kernelspec": {
   "display_name": "tf",
   "language": "python",
   "name": "python3"
  },
  "language_info": {
   "codemirror_mode": {
    "name": "ipython",
    "version": 3
   },
   "file_extension": ".py",
   "mimetype": "text/x-python",
   "name": "python",
   "nbconvert_exporter": "python",
   "pygments_lexer": "ipython3",
   "version": "3.9.18"
  }
 },
 "nbformat": 4,
 "nbformat_minor": 2
}
