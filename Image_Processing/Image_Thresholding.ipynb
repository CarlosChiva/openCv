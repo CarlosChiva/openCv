{
 "cells": [
  {
   "cell_type": "markdown",
   "metadata": {},
   "source": [
    "Umbral simple:\n",
    "\n",
    "Aquí el asunto es sencillo. Para cada píxel, se aplica el mismo valor de umbral. Si el valor del píxel es menor que el umbral, se establece en 0; de lo contrario, se establece en un valor máximo. La función cv.threshold se utiliza para aplicar el umbral. El primer argumento es la imagen de origen, que debería ser una imagen en escala de grises . El segundo argumento es el valor umbral que se utiliza para clasificar los valores de píxeles. El tercer argumento es el valor máximo que se asigna a los valores de píxeles que superan el umbral. OpenCV proporciona diferentes tipos de umbrales que vienen dados por el cuarto parámetro de la función. El umbral básico descrito anteriormente se realiza utilizando el tipo cv.THRESH_BINARY . Todos los tipos de umbrales simples son:\n",
    "\n",
    " -cv.THRESH_BINARY\n",
    "\n",
    " -cv.THRESH_BINARY_INV\n",
    "\n",
    " -cv.THRESH_TRUNC\n",
    "\n",
    " -cv.THRESH_TOZERO\n",
    " \n",
    " -cv.THRESH_TOZERO_INV"
   ]
  },
  {
   "cell_type": "markdown",
   "metadata": {},
   "source": [
    "El método devuelve dos salidas. El primero es el umbral que se utilizó y el segundo resultado es la imagen con umbral .\n",
    "\n",
    "Este código compara los diferentes tipos de umbrales simples:"
   ]
  },
  {
   "cell_type": "code",
   "execution_count": null,
   "metadata": {},
   "outputs": [],
   "source": [
    "import cv2 as cv\n",
    "import numpy as np\n",
    "from matplotlib import pyplot as plt\n",
    "img = cv.imread('gradient.png', cv.IMREAD_GRAYSCALE)\n",
    "assert img is not None, \"file could not be read, check with os.path.exists()\"\n",
    "ret,thresh1 = cv.threshold(img,127,255,cv.THRESH_BINARY)\n",
    "ret,thresh2 = cv.threshold(img,127,255,cv.THRESH_BINARY_INV)\n",
    "ret,thresh3 = cv.threshold(img,127,255,cv.THRESH_TRUNC)\n",
    "ret,thresh4 = cv.threshold(img,127,255,cv.THRESH_TOZERO)\n",
    "ret,thresh5 = cv.threshold(img,127,255,cv.THRESH_TOZERO_INV)\n",
    "titles = ['Original Image','BINARY','BINARY_INV','TRUNC','TOZERO','TOZERO_INV']\n",
    "images = [img, thresh1, thresh2, thresh3, thresh4, thresh5]\n",
    "for i in range(6):\n",
    "    plt.subplot(2,3,i+1),plt.imshow(images[i],'gray',vmin=0,vmax=255)\n",
    "    plt.title(titles[i])\n",
    "    plt.xticks([]),plt.yticks([])\n",
    "plt.show()"
   ]
  },
  {
   "cell_type": "markdown",
   "metadata": {},
   "source": [
    "Umbral adaptativo:\n",
    "\n",
    "En la sección anterior, utilizamos un valor global como umbral. Pero esto puede no ser bueno en todos los casos, por ejemplo, si una imagen tiene diferentes condiciones de iluminación en diferentes áreas. En ese caso, el umbral adaptativo puede ayudar. Aquí, el algoritmo determina el umbral para un píxel basándose en una pequeña región a su alrededor. De esta manera obtenemos diferentes umbrales para diferentes regiones de la misma imagen, lo que da mejores resultados para imágenes con iluminación variable.\n",
    "\n",
    "Además de los parámetros descritos anteriormente, el método cv.adaptiveThreshold toma tres parámetros de entrada:\n",
    "\n",
    "El adaptiveMethod decide cómo se calcula el valor umbral:\n",
    "\n",
    "cv.ADAPTIVE_THRESH_MEAN_C : El valor umbral es la media del área de vecindad menos la constante C.\n",
    "cv.ADAPTIVE_THRESH_GAUSSIAN_C : El valor umbral es una suma ponderada gaussiana de los valores de vecindad menos la constante C.\n",
    "blockSize determina el tamaño del área vecina y C es una constante que se resta de la media o suma ponderada de los píxeles vecinos ."
   ]
  },
  {
   "cell_type": "code",
   "execution_count": null,
   "metadata": {},
   "outputs": [],
   "source": [
    "import cv2 as cv\n",
    "import numpy as np\n",
    "from matplotlib import pyplot as plt\n",
    "img = cv.imread('sudoku.png', cv.IMREAD_GRAYSCALE)\n",
    "assert img is not None, \"file could not be read, check with os.path.exists()\"\n",
    "img = cv.medianBlur(img,5)\n",
    "ret,th1 = cv.threshold(img,127,255,cv.THRESH_BINARY)\n",
    "th2 = cv.adaptiveThreshold(img,255,cv.ADAPTIVE_THRESH_MEAN_C,\\\n",
    "            cv.THRESH_BINARY,11,2)\n",
    "th3 = cv.adaptiveThreshold(img,255,cv.ADAPTIVE_THRESH_GAUSSIAN_C,\\\n",
    "            cv.THRESH_BINARY,11,2)\n",
    "titles = ['Original Image', 'Global Thresholding (v = 127)',\n",
    "            'Adaptive Mean Thresholding', 'Adaptive Gaussian Thresholding']\n",
    "images = [img, th1, th2, th3]\n",
    "for i in range(4):\n",
    "    plt.subplot(2,2,i+1),plt.imshow(images[i],'gray')\n",
    "    plt.title(titles[i])\n",
    "    plt.xticks([]),plt.yticks([])\n",
    "plt.show()"
   ]
  },
  {
   "cell_type": "markdown",
   "metadata": {},
   "source": [
    "Binarización de Otsu:\n",
    "\n",
    "En el umbral global, utilizamos un valor elegido arbitrariamente como umbral. Por el contrario, el método de Otsu evita tener que elegir un valor y lo determina automáticamente.\n",
    "\n",
    "Considere una imagen con solo dos valores de imagen distintos ( imagen bimodal ), donde el histograma solo consistiría en dos picos. Un buen umbral estaría entre esos dos valores. De manera similar, el método de Otsu determina un valor umbral global óptimo a partir del histograma de la imagen.\n",
    "\n",
    "Para hacerlo, se utiliza la función cv.threshold() , donde cv.THRESH_OTSU se pasa como un indicador adicional. El valor umbral se puede elegir arbitrariamente. Luego, el algoritmo encuentra el valor umbral óptimo que se devuelve como primera salida.\n",
    "\n",
    "Mira el ejemplo a continuación. La imagen de entrada es una imagen ruidosa. En el primer caso, se aplica un umbral global con un valor de 127. En el segundo caso, el umbral de Otsu se aplica directamente. En el tercer caso, la imagen primero se filtra con un núcleo gaussiano de 5x5 para eliminar el ruido y luego se aplica el umbral Otsu. Vea cómo el filtrado de ruido mejora el resultado."
   ]
  },
  {
   "cell_type": "code",
   "execution_count": null,
   "metadata": {},
   "outputs": [],
   "source": [
    "import cv2 as cv\n",
    "import numpy as np\n",
    "from matplotlib import pyplot as plt\n",
    "img = cv.imread('noisy2.png', cv.IMREAD_GRAYSCALE)\n",
    "assert img is not None, \"file could not be read, check with os.path.exists()\"\n",
    "# global thresholding\n",
    "ret1,th1 = cv.threshold(img,127,255,cv.THRESH_BINARY)\n",
    "# Otsu's thresholding\n",
    "ret2,th2 = cv.threshold(img,0,255,cv.THRESH_BINARY+cv.THRESH_OTSU)\n",
    "# Otsu's thresholding after Gaussian filtering\n",
    "blur = cv.GaussianBlur(img,(5,5),0)\n",
    "ret3,th3 = cv.threshold(blur,0,255,cv.THRESH_BINARY+cv.THRESH_OTSU)\n",
    "# plot all the images and their histograms\n",
    "images = [img, 0, th1,\n",
    "          img, 0, th2,\n",
    "          blur, 0, th3]\n",
    "titles = ['Original Noisy Image','Histogram','Global Thresholding (v=127)',\n",
    "          'Original Noisy Image','Histogram',\"Otsu's Thresholding\",\n",
    "          'Gaussian filtered Image','Histogram',\"Otsu's Thresholding\"]\n",
    "for i in range(3):\n",
    "    plt.subplot(3,3,i*3+1),plt.imshow(images[i*3],'gray')\n",
    "    plt.title(titles[i*3]), plt.xticks([]), plt.yticks([])\n",
    "    plt.subplot(3,3,i*3+2),plt.hist(images[i*3].ravel(),256)\n",
    "    plt.title(titles[i*3+1]), plt.xticks([]), plt.yticks([])\n",
    "    plt.subplot(3,3,i*3+3),plt.imshow(images[i*3+2],'gray')\n",
    "    plt.title(titles[i*3+2]), plt.xticks([]), plt.yticks([])\n",
    "plt.show()"
   ]
  }
 ],
 "metadata": {
  "kernelspec": {
   "display_name": "tf",
   "language": "python",
   "name": "python3"
  },
  "language_info": {
   "name": "python",
   "version": "3.9.18"
  }
 },
 "nbformat": 4,
 "nbformat_minor": 2
}
