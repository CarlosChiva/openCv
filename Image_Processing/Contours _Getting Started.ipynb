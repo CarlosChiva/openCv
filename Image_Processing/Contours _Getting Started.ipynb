{
 "cells": [
  {
   "cell_type": "markdown",
   "metadata": {},
   "source": [
    "Los contornos se pueden explicar simplemente como una curva que une todos los puntos continuos (a lo largo del límite), que tienen el mismo color o intensidad. Los contornos son una herramienta útil para el análisis de formas y la detección y reconocimiento de objetos.\n",
    "\n",
    "Para mayor precisión, utilice imágenes binarias. Entonces, antes de encontrar contornos, aplique un umbral o una detección de bordes astuta.\n",
    "Desde OpenCV 3.2, findContours() ya no modifica la imagen de origen.\n",
    "En OpenCV, encontrar contornos es como encontrar un objeto blanco sobre un fondo negro. Así que recuerde, el objeto a encontrar debe ser blanco y el fondo debe ser negro."
   ]
  },
  {
   "cell_type": "code",
   "execution_count": null,
   "metadata": {},
   "outputs": [],
   "source": [
    "import numpy as np\n",
    "import cv2 as cv\n",
    "img = cv.imread('test.jpg')\n",
    "assert img is not None, \"file could not be read, check with os.path.exists()\"\n",
    "imgray = cv.cvtColor(img, cv.COLOR_BGR2GRAY)\n",
    "ret, thresh = cv.threshold(imgray, 127, 255, 0)\n",
    "contours, hierarchy = cv.findContours(thresh, cv.RETR_TREE, cv.CHAIN_APPROX_SIMPLE)"
   ]
  },
  {
   "cell_type": "markdown",
   "metadata": {},
   "source": [
    "Para dibujar los contornos, se utiliza la función cv.drawContours . También se puede utilizar para dibujar cualquier forma siempre que tenga sus puntos límite. Su primer argumento es la imagen de origen, el segundo argumento son los contornos que deben pasarse como una lista de Python, el tercer argumento es el índice de contornos (útil al dibujar contornos individuales. Para dibujar todos los contornos, pase -1) y los argumentos restantes son el color y el grosor. etc."
   ]
  },
  {
   "cell_type": "markdown",
   "metadata": {},
   "source": [
    "Para dibujar todos los contornos de una imagen:"
   ]
  },
  {
   "cell_type": "code",
   "execution_count": null,
   "metadata": {},
   "outputs": [],
   "source": [
    "cv.drawContours(img, contours, -1, (0,255,0), 3)\n"
   ]
  },
  {
   "cell_type": "markdown",
   "metadata": {},
   "source": [
    "Para dibujar un contorno individual, digamos cuarto contorno:\n"
   ]
  },
  {
   "cell_type": "code",
   "execution_count": null,
   "metadata": {},
   "outputs": [],
   "source": [
    "cv.drawContours(img, contours, 3, (0,255,0), 3)\n"
   ]
  },
  {
   "cell_type": "markdown",
   "metadata": {},
   "source": [
    "Pero la mayoría de las veces, el siguiente método será útil:\n"
   ]
  },
  {
   "cell_type": "code",
   "execution_count": null,
   "metadata": {},
   "outputs": [],
   "source": [
    "cnt = contours[4]\n",
    "cv.drawContours(img, [cnt], 0, (0,255,0), 3)"
   ]
  },
  {
   "cell_type": "markdown",
   "metadata": {},
   "source": [
    "Método de aproximación del contorno.\n",
    "\n",
    "Este es el tercer argumento de la función cv.findContours . ¿Qué denota en realidad?\n",
    "\n",
    "Arriba dijimos que los contornos son los límites de una forma con la misma intensidad. Almacena las coordenadas (x,y) del límite de una forma. ¿Pero almacena todas las coordenadas? Esto se especifica mediante este método de aproximación de contorno.\n",
    "\n",
    "Si pasa cv.CHAIN_APPROX_NONE , se almacenan todos los puntos límite. ¿Pero realmente necesitamos todos los puntos? Por ejemplo, encontraste el contorno de una línea recta. ¿Necesitas todos los puntos de la recta para representar esa recta? No, solo necesitamos dos puntos finales de esa línea. Esto es lo que hace cv.CHAIN_APPROX_SIMPLE . Elimina todos los puntos redundantes y comprime el contorno, ahorrando así memoria."
   ]
  }
 ],
 "metadata": {
  "language_info": {
   "name": "python"
  }
 },
 "nbformat": 4,
 "nbformat_minor": 2
}
