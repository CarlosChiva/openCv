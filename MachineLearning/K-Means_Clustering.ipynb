{
 "cells": [
  {
   "cell_type": "markdown",
   "metadata": {},
   "source": [
    "Consideremos una empresa que va a lanzar al mercado un nuevo modelo de camiseta. Evidentemente tendrán que fabricar modelos en diferentes tallas para satisfacer a personas de todas las tallas. Entonces, la empresa genera datos sobre la altura y el peso de las personas y los representa en un gráfico,\n",
    "\n",
    "La empresa no puede crear camisetas con todas las tallas. En cambio, dividen a las personas en Pequeñas, Medianas y Grandes, y fabrican sólo estos 3 modelos que se adaptan a todas las personas. Esta agrupación de personas en tres grupos se puede realizar mediante agrupación de k-medias, y el algoritmo nos proporciona los 3 mejores tamaños, que satisfarán a todas las personas. Y si no es así, la empresa puede dividir a las personas en más grupos, pueden ser cinco, y así sucesivamente."
   ]
  },
  {
   "cell_type": "markdown",
   "metadata": {},
   "source": [
    "- El algoritmo elige aleatoriamente dos centroides,C1 y C2(A veces, dos datos cualesquiera se toman como centroides).\n",
    "\n",
    "- Calcula la distancia desde cada punto a ambos centroides. Si los datos de una prueba están más cerca de C1, entonces esos datos están etiquetados con '0'. Si está más cerca de C2, luego etiquetado como '1' (si hay más centroides, etiquetado como '2', '3', etc.)."
   ]
  },
  {
   "cell_type": "markdown",
   "metadata": {},
   "source": [
    "- Calculamos el promedio de todos los puntos azules y rojos por separado y esos serán nuestros nuevos centroides. Eso es C1 y C2 cambiar a centroides recién calculados.\n",
    "\n",
    "Y nuevamente se calcula la distancia desde cada punto a ambos centroides. Si los datos de una prueba están más cerca de C1, entonces esos datos están etiquetados con '0'. Si está más cerca de C2, luego etiquetado como '1'. "
   ]
  },
  {
   "cell_type": "markdown",
   "metadata": {},
   "source": [
    "- K-Means Clustering in OpenCV"
   ]
  },
  {
   "cell_type": "markdown",
   "metadata": {},
   "source": [
    "Parámetros:\n",
    " - Parámetros de entrada:\n",
    "    - muestras : debe ser del tipo de datos np.float32 y cada característica debe colocarse en una sola columna.\n",
    "    - nclusters(K) : número de clústeres necesarios al final\n",
    "    - criterios : Es el criterio de terminación de la iteración. Cuando se cumple este criterio, la iteración del algoritmo se detiene. En realidad, debería ser una tupla de 3 parámetros. Son `(tipo, max_iter, épsilon)`:\n",
    "        - tipo de criterios de terminación. Tiene 3 banderas como se muestra a continuación:\n",
    "            - cv.TERM_CRITERIA_EPS : detiene la iteración del algoritmo si se alcanza la precisión especificada, épsilon .\n",
    "            - cv.TERM_CRITERIA_MAX_ITER : detiene el algoritmo después del número especificado de iteraciones, max_iter .\n",
    "            - cv.TERM_CRITERIA_EPS + cv.TERM_CRITERIA_MAX_ITER : detiene la iteración cuando se cumple alguna de las condiciones anteriores.\n",
    "        - max_iter: un número entero que especifica el número máximo de iteraciones.\n",
    "        - épsilon: precisión requerida\n",
    "    - intentos : Bandera para especificar el número de veces que se ejecuta el algoritmo utilizando diferentes etiquetas iniciales. El algoritmo devuelve las etiquetas que producen la mejor compacidad. Esta compacidad se devuelve como salida.\n",
    "    -banderas : esta bandera se utiliza para especificar cómo se toman los centros iniciales. Normalmente se utilizan dos indicadores para esto: cv.KMEANS_PP_CENTERS y cv.KMEANS_RANDOM_CENTERS .\n",
    "  - Parámetros de salida\n",
    "        - Compacidad : Es la suma de las distancias al cuadrado desde cada punto hasta sus centros correspondientes.\n",
    "        - etiquetas : esta es la matriz de etiquetas (igual que el 'código' en el artículo anterior) donde cada elemento está marcado como '0', '1'.....\n",
    "        - centros : Este es un conjunto de centros de conglomerados.  "
   ]
  },
  {
   "cell_type": "markdown",
   "metadata": {},
   "source": [
    "A modo de ejemplo tenemos un conjunto de datos con una sola característica, es decir, unidimensional. Por ejemplo, podemos tomar nuestro problema de la camiseta en el que solo utilizamos la altura de las personas para decidir la talla de la camiseta.\n",
    "\n",
    "Entonces comenzamos creando datos y trazándolos en Matplotlib"
   ]
  },
  {
   "cell_type": "code",
   "execution_count": 1,
   "metadata": {},
   "outputs": [
    {
     "data": {
      "image/png": "[encoded data removed]",
      "text/plain": [
       "<Figure size 640x480 with 1 Axes>"
      ]
     },
     "metadata": {},
     "output_type": "display_data"
    },
    {
     "data": {
      "text/plain": [
       "((array([0., 0., 0., 0., 0., 0., 0., 0., 0., 0., 0., 0., 0., 0., 0., 0., 0.,\n",
       "         0., 0., 0., 0., 0., 0., 0., 0., 1., 0., 0., 1., 0., 0., 0., 0., 1.,\n",
       "         0., 0., 0., 0., 0., 0., 1., 1., 1., 0., 0., 0., 2., 0., 0., 0., 0.,\n",
       "         0., 0., 1., 0., 0., 1., 0., 1., 0., 0., 0., 0., 0., 0., 0., 0., 0.,\n",
       "         1., 0., 1., 1., 1., 0., 1., 0., 0., 0., 0., 0., 1., 0., 0., 0., 1.,\n",
       "         1., 0., 0., 0., 0., 1., 0., 1., 0., 0., 0., 1., 2., 0., 1., 0., 0.,\n",
       "         0., 0., 0., 0., 0., 0., 0., 0., 0., 0., 0., 0., 0., 0., 0., 0., 0.,\n",
       "         0., 0., 0., 0., 0., 0., 0., 0., 0., 0., 0., 0., 0., 0., 0., 0., 0.,\n",
       "         0., 0., 0., 0., 0., 0., 0., 0., 0., 0., 0., 0., 0., 0., 0., 0., 0.,\n",
       "         0., 0., 0., 0., 0., 0., 0., 0., 0., 0., 0., 0., 0., 0., 0., 0., 0.,\n",
       "         0., 0., 0., 0., 0., 1., 0., 0., 0., 0., 1., 0., 1., 0., 0., 1., 1.,\n",
       "         0., 0., 0., 0., 1., 0., 0., 1., 0., 1., 0., 0., 0., 0., 0., 0., 1.,\n",
       "         0., 0., 0., 0., 0., 0., 0., 0., 0., 0., 1., 0., 0., 0., 0., 1., 1.,\n",
       "         0., 0., 1., 0., 0., 0., 2., 1., 1., 0., 0., 1., 0., 0., 2., 0., 0.,\n",
       "         1., 1., 1., 0., 0., 0., 1., 0., 0., 0., 0., 0., 0., 0., 0., 0., 1.,\n",
       "         0.]),\n",
       "  array([  0.,   1.,   2.,   3.,   4.,   5.,   6.,   7.,   8.,   9.,  10.,\n",
       "          11.,  12.,  13.,  14.,  15.,  16.,  17.,  18.,  19.,  20.,  21.,\n",
       "          22.,  23.,  24.,  25.,  26.,  27.,  28.,  29.,  30.,  31.,  32.,\n",
       "          33.,  34.,  35.,  36.,  37.,  38.,  39.,  40.,  41.,  42.,  43.,\n",
       "          44.,  45.,  46.,  47.,  48.,  49.,  50.,  51.,  52.,  53.,  54.,\n",
       "          55.,  56.,  57.,  58.,  59.,  60.,  61.,  62.,  63.,  64.,  65.,\n",
       "          66.,  67.,  68.,  69.,  70.,  71.,  72.,  73.,  74.,  75.,  76.,\n",
       "          77.,  78.,  79.,  80.,  81.,  82.,  83.,  84.,  85.,  86.,  87.,\n",
       "          88.,  89.,  90.,  91.,  92.,  93.,  94.,  95.,  96.,  97.,  98.,\n",
       "          99., 100., 101., 102., 103., 104., 105., 106., 107., 108., 109.,\n",
       "         110., 111., 112., 113., 114., 115., 116., 117., 118., 119., 120.,\n",
       "         121., 122., 123., 124., 125., 126., 127., 128., 129., 130., 131.,\n",
       "         132., 133., 134., 135., 136., 137., 138., 139., 140., 141., 142.,\n",
       "         143., 144., 145., 146., 147., 148., 149., 150., 151., 152., 153.,\n",
       "         154., 155., 156., 157., 158., 159., 160., 161., 162., 163., 164.,\n",
       "         165., 166., 167., 168., 169., 170., 171., 172., 173., 174., 175.,\n",
       "         176., 177., 178., 179., 180., 181., 182., 183., 184., 185., 186.,\n",
       "         187., 188., 189., 190., 191., 192., 193., 194., 195., 196., 197.,\n",
       "         198., 199., 200., 201., 202., 203., 204., 205., 206., 207., 208.,\n",
       "         209., 210., 211., 212., 213., 214., 215., 216., 217., 218., 219.,\n",
       "         220., 221., 222., 223., 224., 225., 226., 227., 228., 229., 230.,\n",
       "         231., 232., 233., 234., 235., 236., 237., 238., 239., 240., 241.,\n",
       "         242., 243., 244., 245., 246., 247., 248., 249., 250., 251., 252.,\n",
       "         253., 254., 255., 256.]),\n",
       "  <BarContainer object of 256 artists>),\n",
       " None)"
      ]
     },
     "execution_count": 1,
     "metadata": {},
     "output_type": "execute_result"
    }
   ],
   "source": [
    "import numpy as np\n",
    "import cv2 as cv\n",
    "from matplotlib import pyplot as plt\n",
    "x = np.random.randint(25,100,25)\n",
    "y = np.random.randint(175,255,25)\n",
    "z = np.hstack((x,y))\n",
    "z = z.reshape((50,1))\n",
    "z = np.float32(z)\n",
    "plt.hist(z,256,[0,256]),plt.show()"
   ]
  },
  {
   "cell_type": "markdown",
   "metadata": {},
   "source": [
    "Ahora aplicamos la función KMeans. Antes de eso necesitamos especificar los criterios. Mi criterio es tal que, siempre que se ejecuten 10 iteraciones del algoritmo o se alcance una precisión de épsilon = 1,0, detenga el algoritmo y devuelva la respuesta."
   ]
  },
  {
   "cell_type": "code",
   "execution_count": 2,
   "metadata": {},
   "outputs": [],
   "source": [
    "# Define criteria = ( type, max_iter = 10 , epsilon = 1.0 )\n",
    "criteria = (cv.TERM_CRITERIA_EPS + cv.TERM_CRITERIA_MAX_ITER, 10, 1.0)\n",
    "# Set flags (Just to avoid line break in the code)\n",
    "flags = cv.KMEANS_RANDOM_CENTERS\n",
    "# Apply KMeans\n",
    "compactness,labels,centers = cv.kmeans(z,2,None,criteria,10,flags)"
   ]
  },
  {
   "cell_type": "markdown",
   "metadata": {},
   "source": [
    " El codigo anterior nos da la compacidad, etiquetas y centros. En este caso, obtuve centros como 60 y 207. Las etiquetas tendrán el mismo tamaño que los datos de prueba, donde cada dato se etiquetará como '0', '1', '2', etc., dependiendo de sus centroides. Ahora dividimos los datos en diferentes grupos según sus etiquetas."
   ]
  },
  {
   "cell_type": "code",
   "execution_count": 3,
   "metadata": {},
   "outputs": [],
   "source": [
    "A = z[labels==0]\n",
    "B = z[labels==1]"
   ]
  },
  {
   "cell_type": "markdown",
   "metadata": {},
   "source": [
    "Ahora trazamos A en color rojo y B en color azul y sus centroides en color amarillo."
   ]
  },
  {
   "cell_type": "code",
   "execution_count": 4,
   "metadata": {},
   "outputs": [
    {
     "data": {
      "image/png": "[encoded data removed]",
      "text/plain": [
       "<Figure size 640x480 with 1 Axes>"
      ]
     },
     "metadata": {},
     "output_type": "display_data"
    }
   ],
   "source": [
    "plt.hist(A,256,[0,256],color = 'r')\n",
    "plt.hist(B,256,[0,256],color = 'b')\n",
    "plt.hist(centers,32,[0,256],color = 'y')\n",
    "plt.show()"
   ]
  },
  {
   "cell_type": "markdown",
   "metadata": {},
   "source": [
    "- Data with Multiple Features"
   ]
  },
  {
   "cell_type": "markdown",
   "metadata": {},
   "source": [
    "A diferencia del ejemplo anterior tomaremos tanto la altura como el peso, es decir, dos características.\n",
    "\n",
    "Recuerde, en el caso anterior, convertimos nuestros datos en un vector de una sola columna. Cada característica está organizada en una columna, mientras que cada fila corresponde a una muestra de prueba de entrada."
   ]
  },
  {
   "cell_type": "code",
   "execution_count": 5,
   "metadata": {},
   "outputs": [
    {
     "data": {
      "image/png": "[encoded data removed]",
      "text/plain": [
       "<Figure size 640x480 with 1 Axes>"
      ]
     },
     "metadata": {},
     "output_type": "display_data"
    }
   ],
   "source": [
    "import numpy as np\n",
    "import cv2 as cv\n",
    "from matplotlib import pyplot as plt\n",
    "X = np.random.randint(25,50,(25,2))\n",
    "Y = np.random.randint(60,85,(25,2))\n",
    "Z = np.vstack((X,Y))\n",
    "# convert to np.float32\n",
    "Z = np.float32(Z)\n",
    "# define criteria and apply kmeans()\n",
    "criteria = (cv.TERM_CRITERIA_EPS + cv.TERM_CRITERIA_MAX_ITER, 10, 1.0)\n",
    "ret,label,center=cv.kmeans(Z,2,None,criteria,10,cv.KMEANS_RANDOM_CENTERS)\n",
    "# Now separate the data, Note the flatten()\n",
    "A = Z[label.ravel()==0]\n",
    "B = Z[label.ravel()==1]\n",
    "# Plot the data\n",
    "plt.scatter(A[:,0],A[:,1])\n",
    "plt.scatter(B[:,0],B[:,1],c = 'r')\n",
    "plt.scatter(center[:,0],center[:,1],s = 80,c = 'y', marker = 's')\n",
    "plt.xlabel('Height'),plt.ylabel('Weight')\n",
    "plt.show()"
   ]
  },
  {
   "cell_type": "markdown",
   "metadata": {},
   "source": [
    "- Color Quantization"
   ]
  },
  {
   "cell_type": "markdown",
   "metadata": {},
   "source": [
    "La cuantización del color es el proceso de reducir la cantidad de colores en una imagen. Una razón para hacerlo es reducir la memoria. A veces, algunos dispositivos pueden tener limitaciones tales que solo pueden producir una cantidad limitada de colores. También en esos casos se realiza la cuantificación del color. Aquí utilizamos la agrupación de k-medias para la cuantificación del color."
   ]
  },
  {
   "cell_type": "markdown",
   "metadata": {},
   "source": [
    "Aquí hay 3 características, digamos, R,G,B. Entonces necesitamos remodelar la imagen a una matriz de tamaño Mx3 (M es el número de píxeles de la imagen). Y después de la agrupación, aplicamos valores de centroide (también es R,G,B) a todos los píxeles, de modo que la imagen resultante tendrá un número específico de colores. Y nuevamente necesitamos remodelarlo para que tenga la forma de la imagen original"
   ]
  },
  {
   "cell_type": "code",
   "execution_count": 6,
   "metadata": {},
   "outputs": [
    {
     "name": "stderr",
     "output_type": "stream",
     "text": [
      "qt.qpa.plugin: Could not find the Qt platform plugin \"wayland\" in \"/home/dread/miniconda3/envs/tf/lib/python3.9/site-packages/cv2/qt/plugins\"\n"
     ]
    }
   ],
   "source": [
    "import numpy as np\n",
    "import cv2 as cv\n",
    "img = cv.imread('resources/home.jpg')\n",
    "Z = img.reshape((-1,3))\n",
    "# convert to np.float32\n",
    "Z = np.float32(Z)\n",
    "# define criteria, number of clusters(K) and apply kmeans()\n",
    "criteria = (cv.TERM_CRITERIA_EPS + cv.TERM_CRITERIA_MAX_ITER, 10, 1.0)\n",
    "K = 8\n",
    "ret,label,center=cv.kmeans(Z,K,None,criteria,10,cv.KMEANS_RANDOM_CENTERS)\n",
    "# Now convert back into uint8, and make original image\n",
    "center = np.uint8(center)\n",
    "res = center[label.flatten()]\n",
    "res2 = res.reshape((img.shape))\n",
    "cv.imshow('res2',res2)\n",
    "cv.waitKey(0)\n",
    "cv.destroyAllWindows()"
   ]
  }
 ],
 "metadata": {
  "kernelspec": {
   "display_name": "tf",
   "language": "python",
   "name": "python3"
  },
  "language_info": {
   "codemirror_mode": {
    "name": "ipython",
    "version": 3
   },
   "file_extension": ".py",
   "mimetype": "text/x-python",
   "name": "python",
   "nbconvert_exporter": "python",
   "pygments_lexer": "ipython3",
   "version": "3.9.18"
  }
 },
 "nbformat": 4,
 "nbformat_minor": 2
}
