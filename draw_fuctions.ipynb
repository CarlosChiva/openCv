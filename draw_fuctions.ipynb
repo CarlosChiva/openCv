{
 "cells": [
  {
   "cell_type": "code",
   "execution_count": 2,
   "metadata": {},
   "outputs": [],
   "source": [
    "import numpy as np\n",
    "import cv2 as cv\n"
   ]
  },
  {
   "cell_type": "markdown",
   "metadata": {},
   "source": [
    "# Create lines:"
   ]
  },
  {
   "cell_type": "code",
   "execution_count": 4,
   "metadata": {},
   "outputs": [],
   "source": [
    "# Crea una imagen en negro\n",
    "img = np.zeros((512,512,3), np.uint8)\n",
    "# Dibuja una línea azul diagonal con un grosor de 5 px\n",
    "cv.line (img,(0,0),(511,511),(255,0,0),5)\n",
    "\n",
    "# Muestra la imagen dibujada\n",
    "cv.imshow('Imagen Dibujada', img)\n",
    "k= cv.waitKey(0)\n",
    "if k == ord(\"s\"):\n",
    "    cv.destroyAllWindows()"
   ]
  },
  {
   "cell_type": "markdown",
   "metadata": {},
   "source": [
    "# Create rectangle"
   ]
  },
  {
   "cell_type": "code",
   "execution_count": 1,
   "metadata": {},
   "outputs": [
    {
     "name": "stderr",
     "output_type": "stream",
     "text": [
      "qt.qpa.plugin: Could not find the Qt platform plugin \"wayland\" in \"/home/dread/miniconda3/envs/tf/lib/python3.9/site-packages/cv2/qt/plugins\"\n"
     ]
    }
   ],
   "source": [
    "import numpy as np\n",
    "import cv2 as cv\n",
    "img = np.zeros((512,512,3), np.uint8)\n",
    "#(image where draw, corner up-left,corner down-right,color (RGB), pixel size of trazo) \n",
    "cv.rectangle (img,(384,0),(510,128),(0,255,0),3)\n",
    "# Muestra la imagen dibujada\n",
    "cv.imshow('Imagen Dibujada', img)\n",
    "k= cv.waitKey(0)\n",
    "if k == ord(\"s\"):\n",
    "    cv.destroyAllWindows()"
   ]
  },
  {
   "cell_type": "markdown",
   "metadata": {},
   "source": [
    "# Create Circle"
   ]
  },
  {
   "cell_type": "code",
   "execution_count": 3,
   "metadata": {},
   "outputs": [],
   "source": [
    "import numpy as np\n",
    "import cv2 as cv\n",
    "img = np.zeros((512,512,3), np.uint8)\n",
    "#(image where draw,coordenade of center of circle,radius,color (RGB), pixel size of trazo) \n",
    "# if last number is negatve is filled\n",
    "cv.circle (img,(447,63), 63, (0,0,255), -1)\n",
    "# Muestra la imagen dibujada\n",
    "cv.imshow('Imagen Dibujada', img)\n",
    "k= cv.waitKey(0)\n",
    "if k == ord(\"s\"):\n",
    "    cv.destroyAllWindows()"
   ]
  },
  {
   "cell_type": "markdown",
   "metadata": {},
   "source": [
    "# Create Elipse"
   ]
  },
  {
   "cell_type": "code",
   "execution_count": null,
   "metadata": {},
   "outputs": [],
   "source": [
    "import numpy as np\n",
    "import cv2 as cv\n",
    "#(image where draw,central ubication of elipse(x,y),longitude de los ejes (longitud del eje mayor, longitud del eje menor). El ángulo de rotación de la elipse en sentido antihorario(startAngle , endAngle) denotan el inicio y el final del arco de elipse.  \n",
    "img = np.zeros((512,512,3), np.uint8)\n",
    "cv.ellipse(img,(256,256),(100,50),0,0,180,255,-1)\n",
    "# Muestra la imagen dibujada\n",
    "cv.imshow('Imagen Dibujada', img)\n",
    "k= cv.waitKey(0)\n",
    "if k == ord(\"s\"):\n",
    "    cv.destroyAllWindows()"
   ]
  },
  {
   "cell_type": "markdown",
   "metadata": {},
   "source": [
    "# Polygon"
   ]
  },
  {
   "cell_type": "code",
   "execution_count": 6,
   "metadata": {},
   "outputs": [],
   "source": [
    "import numpy as np\n",
    "import cv2 as cv\n",
    "img = np.zeros((512,512,3), np.uint8)\n",
    "\n",
    "pts = np.array([[10,5],[20,30],[70,20],[50,10]], np.int32)\n",
    "pts = pts.reshape((-1,1,2))\n",
    "cv.polylines (img,[pts], True ,(0,255,255))\n",
    "# Muestra la imagen dibujada\n",
    "cv.imshow('Imagen Dibujada', img)\n",
    "k= cv.waitKey(0)\n",
    "if k == ord(\"s\"):\n",
    "    cv.destroyAllWindows()"
   ]
  },
  {
   "cell_type": "markdown",
   "metadata": {},
   "source": [
    "# Add Text"
   ]
  },
  {
   "cell_type": "code",
   "execution_count": null,
   "metadata": {},
   "outputs": [],
   "source": [
    "import numpy as np\n",
    "import cv2 as cv\n",
    "img = np.zeros((512,512,3), np.uint8)\n",
    "# (image where write,text,begin to write(x,y),font,scale,color,2,)\n",
    "font = cv.FONT_HERSHEY_SIMPLEX\n",
    "cv.putText(img,'OpenCV',(10,500), font, 4,(255,255,255),2,cv.LINE_AA)\n",
    "cv.imshow('Imagen Dibujada', img)\n",
    "k= cv.waitKey(0)\n",
    "if k == ord(\"s\"):\n",
    "    cv.destroyAllWindows()"
   ]
  },
  {
   "cell_type": "code",
   "execution_count": 9,
   "metadata": {},
   "outputs": [
    {
     "ename": "error",
     "evalue": "OpenCV(4.8.1) :-1: error: (-5:Bad argument) in function 'line'\n> Overload resolution failed:\n>  - Can't parse 'pt2'. Sequence item with index 0 has a wrong type\n>  - Can't parse 'pt2'. Sequence item with index 0 has a wrong type\n",
     "output_type": "error",
     "traceback": [
      "\u001b[0;31m---------------------------------------------------------------------------\u001b[0m",
      "\u001b[0;31merror\u001b[0m                                     Traceback (most recent call last)",
      "Cell \u001b[0;32mIn[9], line 35\u001b[0m\n\u001b[1;32m     33\u001b[0m \u001b[38;5;66;03m# Dibuja el triángulo del logo\u001b[39;00m\n\u001b[1;32m     34\u001b[0m cv2\u001b[38;5;241m.\u001b[39mline(output_image, (\u001b[38;5;241m0\u001b[39m, \u001b[38;5;241m160\u001b[39m), (\u001b[38;5;241m0\u001b[39m, \u001b[38;5;241m200\u001b[39m), red, \u001b[38;5;241m1\u001b[39m)\n\u001b[0;32m---> 35\u001b[0m \u001b[43mcv2\u001b[49m\u001b[38;5;241;43m.\u001b[39;49m\u001b[43mline\u001b[49m\u001b[43m(\u001b[49m\u001b[43moutput_image\u001b[49m\u001b[43m,\u001b[49m\u001b[43m \u001b[49m\u001b[43m(\u001b[49m\u001b[38;5;241;43m0\u001b[39;49m\u001b[43m,\u001b[49m\u001b[43m \u001b[49m\u001b[38;5;241;43m200\u001b[39;49m\u001b[43m)\u001b[49m\u001b[43m,\u001b[49m\u001b[43m \u001b[49m\u001b[43m(\u001b[49m\u001b[43m(\u001b[49m\u001b[43mwidth\u001b[49m\u001b[43m \u001b[49m\u001b[38;5;241;43m/\u001b[39;49m\u001b[43m \u001b[49m\u001b[38;5;241;43m2\u001b[39;49m\u001b[43m)\u001b[49m\u001b[43m,\u001b[49m\u001b[43m \u001b[49m\u001b[38;5;241;43m200\u001b[39;49m\u001b[43m)\u001b[49m\u001b[43m,\u001b[49m\u001b[43m \u001b[49m\u001b[43mred\u001b[49m\u001b[43m,\u001b[49m\u001b[43m \u001b[49m\u001b[38;5;241;43m1\u001b[39;49m\u001b[43m)\u001b[49m\n\u001b[1;32m     36\u001b[0m cv2\u001b[38;5;241m.\u001b[39mline(output_image, ((width \u001b[38;5;241m/\u001b[39m \u001b[38;5;241m2\u001b[39m), \u001b[38;5;241m200\u001b[39m), (width, \u001b[38;5;241m200\u001b[39m), red, \u001b[38;5;241m1\u001b[39m)\n\u001b[1;32m     38\u001b[0m \u001b[38;5;66;03m# Muestra la imagen\u001b[39;00m\n",
      "\u001b[0;31merror\u001b[0m: OpenCV(4.8.1) :-1: error: (-5:Bad argument) in function 'line'\n> Overload resolution failed:\n>  - Can't parse 'pt2'. Sequence item with index 0 has a wrong type\n>  - Can't parse 'pt2'. Sequence item with index 0 has a wrong type\n"
     ]
    }
   ],
   "source": [
    "import cv2\n",
    "import numpy as np\n",
    "\n",
    "# Ancho y alto de la imagen\n",
    "width = 600\n",
    "height = 400\n",
    "\n",
    "# Crea la imagen de salida\n",
    "output_image = np.zeros((height, width, 3), np.uint8)\n",
    "\n",
    "# Colores del logo\n",
    "black = (0, 0, 0)\n",
    "white = (255, 255, 255)\n",
    "red = (0, 0, 255)\n",
    "green = (0, 255, 0)\n",
    "blue = (255, 0, 0)\n",
    "\n",
    "# Dibuja el rectángulo del logo\n",
    "cv2.rectangle(output_image, (0, 0), (width, height), black, -1)\n",
    "\n",
    "# Dibuja las letras \"O\", \"P\", \"E\", \"N\", \"C\", \"V\"\n",
    "cv2.putText(output_image, \"O\", (0, 40), cv2.FONT_HERSHEY_SIMPLEX, 4, white, 1)\n",
    "cv2.putText(output_image, \"P\", (100, 40), cv2.FONT_HERSHEY_SIMPLEX, 4, white, 1)\n",
    "cv2.putText(output_image, \"E\", (200, 40), cv2.FONT_HERSHEY_SIMPLEX, 4, white, 1)\n",
    "cv2.putText(output_image, \"N\", (300, 40), cv2.FONT_HERSHEY_SIMPLEX, 4, white, 1)\n",
    "cv2.putText(output_image, \"C\", (400, 40), cv2.FONT_HERSHEY_SIMPLEX, 4, white, 1)\n",
    "cv2.putText(output_image, \"V\", (500, 40), cv2.FONT_HERSHEY_SIMPLEX, 4, white, 1)\n",
    "\n",
    "# Dibuja las líneas del logo\n",
    "cv2.line(output_image, (0, 80), (width, 80), black, 1)\n",
    "cv2.line(output_image, (80, 0), (80, height), black, 1)\n",
    "\n",
    "# Dibuja el triángulo del logo\n",
    "cv2.line(output_image, (0, 160), (0, 200), red, 1)\n",
    "cv2.line(output_image, (0, 200), ((width / 2), 200), red, 1)\n",
    "cv2.line(output_image, ((width / 2), 200), (width, 200), red, 1)\n",
    "\n",
    "# Muestra la imagen\n",
    "cv2.imshow(\"OpenCV Logo\", output_image)\n",
    "cv2.waitKey(0)\n"
   ]
  }
 ],
 "metadata": {
  "kernelspec": {
   "display_name": "tf",
   "language": "python",
   "name": "python3"
  },
  "language_info": {
   "codemirror_mode": {
    "name": "ipython",
    "version": 3
   },
   "file_extension": ".py",
   "mimetype": "text/x-python",
   "name": "python",
   "nbconvert_exporter": "python",
   "pygments_lexer": "ipython3",
   "version": "3.9.18"
  }
 },
 "nbformat": 4,
 "nbformat_minor": 2
}
