{
 "cells": [
  {
   "cell_type": "code",
   "execution_count": 2,
   "metadata": {},
   "outputs": [],
   "source": [
    "import numpy as np\n",
    "import cv2 as cv\n"
   ]
  },
  {
   "cell_type": "markdown",
   "metadata": {},
   "source": [
    "# Create lines:"
   ]
  },
  {
   "cell_type": "code",
   "execution_count": 4,
   "metadata": {},
   "outputs": [],
   "source": [
    "# Crea una imagen en negro\n",
    "img = np.zeros((512,512,3), np.uint8)\n",
    "# Dibuja una línea azul diagonal con un grosor de 5 px\n",
    "cv.line (img,(0,0),(511,511),(255,0,0),5)\n",
    "\n",
    "# Muestra la imagen dibujada\n",
    "cv.imshow('Imagen Dibujada', img)\n",
    "k= cv.waitKey(0)\n",
    "if k == ord(\"s\"):\n",
    "    cv.destroyAllWindows()"
   ]
  },
  {
   "cell_type": "markdown",
   "metadata": {},
   "source": [
    "# Create rectangle"
   ]
  },
  {
   "cell_type": "code",
   "execution_count": 1,
   "metadata": {},
   "outputs": [
    {
     "name": "stderr",
     "output_type": "stream",
     "text": [
      "qt.qpa.plugin: Could not find the Qt platform plugin \"wayland\" in \"/home/dread/miniconda3/envs/tf/lib/python3.9/site-packages/cv2/qt/plugins\"\n"
     ]
    }
   ],
   "source": [
    "import numpy as np\n",
    "import cv2 as cv\n",
    "img = np.zeros((512,512,3), np.uint8)\n",
    "#(image where draw, corner up-left,corner down-right,color (RGB), pixel size of trazo) \n",
    "cv.rectangle (img,(384,0),(510,128),(0,255,0),3)\n",
    "# Muestra la imagen dibujada\n",
    "cv.imshow('Imagen Dibujada', img)\n",
    "k= cv.waitKey(0)\n",
    "if k == ord(\"s\"):\n",
    "    cv.destroyAllWindows()"
   ]
  },
  {
   "cell_type": "markdown",
   "metadata": {},
   "source": [
    "# Create Circle"
   ]
  },
  {
   "cell_type": "code",
   "execution_count": 3,
   "metadata": {},
   "outputs": [],
   "source": [
    "import numpy as np\n",
    "import cv2 as cv\n",
    "img = np.zeros((512,512,3), np.uint8)\n",
    "#(image where draw,coordenade of center of circle,radius,color (RGB), pixel size of trazo) \n",
    "# if last number is negatve is filled\n",
    "cv.circle (img,(447,63), 63, (0,0,255), -1)\n",
    "# Muestra la imagen dibujada\n",
    "cv.imshow('Imagen Dibujada', img)\n",
    "k= cv.waitKey(0)\n",
    "if k == ord(\"s\"):\n",
    "    cv.destroyAllWindows()"
   ]
  },
  {
   "cell_type": "markdown",
   "metadata": {},
   "source": [
    "# Create Elipse"
   ]
  },
  {
   "cell_type": "code",
   "execution_count": null,
   "metadata": {},
   "outputs": [],
   "source": [
    "import numpy as np\n",
    "import cv2 as cv\n",
    "#(image where draw,central ubication of elipse(x,y),longitude de los ejes (longitud del eje mayor, longitud del eje menor). El ángulo de rotación de la elipse en sentido antihorario(startAngle , endAngle) denotan el inicio y el final del arco de elipse.  \n",
    "img = np.zeros((512,512,3), np.uint8)\n",
    "cv.ellipse(img,(256,256),(100,50),0,0,180,255,-1)\n",
    "# Muestra la imagen dibujada\n",
    "cv.imshow('Imagen Dibujada', img)\n",
    "k= cv.waitKey(0)\n",
    "if k == ord(\"s\"):\n",
    "    cv.destroyAllWindows()"
   ]
  },
  {
   "cell_type": "markdown",
   "metadata": {},
   "source": [
    "# Polygon"
   ]
  },
  {
   "cell_type": "code",
   "execution_count": 6,
   "metadata": {},
   "outputs": [],
   "source": [
    "import numpy as np\n",
    "import cv2 as cv\n",
    "img = np.zeros((512,512,3), np.uint8)\n",
    "\n",
    "pts = np.array([[10,5],[20,30],[70,20],[50,10]], np.int32)\n",
    "pts = pts.reshape((-1,1,2))\n",
    "cv.polylines (img,[pts], True ,(0,255,255))\n",
    "# Muestra la imagen dibujada\n",
    "cv.imshow('Imagen Dibujada', img)\n",
    "k= cv.waitKey(0)\n",
    "if k == ord(\"s\"):\n",
    "    cv.destroyAllWindows()"
   ]
  }
 ],
 "metadata": {
  "kernelspec": {
   "display_name": "tf",
   "language": "python",
   "name": "python3"
  },
  "language_info": {
   "codemirror_mode": {
    "name": "ipython",
    "version": 3
   },
   "file_extension": ".py",
   "mimetype": "text/x-python",
   "name": "python",
   "nbconvert_exporter": "python",
   "pygments_lexer": "ipython3",
   "version": "3.9.18"
  }
 },
 "nbformat": 4,
 "nbformat_minor": 2
}
