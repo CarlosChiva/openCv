{
 "cells": [
  {
   "cell_type": "code",
   "execution_count": 2,
   "metadata": {},
   "outputs": [],
   "source": [
    "import numpy as np\n",
    "import cv2 as cv\n"
   ]
  },
  {
   "cell_type": "markdown",
   "metadata": {},
   "source": [
    "# Create lines:"
   ]
  },
  {
   "cell_type": "code",
   "execution_count": 4,
   "metadata": {},
   "outputs": [],
   "source": [
    "# Crea una imagen en negro\n",
    "img = np.zeros((512,512,3), np.uint8)\n",
    "# Dibuja una línea azul diagonal con un grosor de 5 px\n",
    "cv.line (img,(0,0),(511,511),(255,0,0),5)\n",
    "\n",
    "# Muestra la imagen dibujada\n",
    "cv.imshow('Imagen Dibujada', img)\n",
    "k= cv.waitKey(0)\n",
    "if k == ord(\"s\"):\n",
    "    cv.destroyAllWindows()"
   ]
  },
  {
   "cell_type": "markdown",
   "metadata": {},
   "source": [
    "# Create rectangle"
   ]
  },
  {
   "cell_type": "code",
   "execution_count": 1,
   "metadata": {},
   "outputs": [
    {
     "name": "stderr",
     "output_type": "stream",
     "text": [
      "qt.qpa.plugin: Could not find the Qt platform plugin \"wayland\" in \"/home/dread/miniconda3/envs/tf/lib/python3.9/site-packages/cv2/qt/plugins\"\n"
     ]
    }
   ],
   "source": [
    "import numpy as np\n",
    "import cv2 as cv\n",
    "img = np.zeros((512,512,3), np.uint8)\n",
    "#(image where draw, corner up-left,corner down-right,color (RGB), pixel size of trazo) \n",
    "cv.rectangle (img,(384,0),(510,128),(0,255,0),3)\n",
    "# Muestra la imagen dibujada\n",
    "cv.imshow('Imagen Dibujada', img)\n",
    "k= cv.waitKey(0)\n",
    "if k == ord(\"s\"):\n",
    "    cv.destroyAllWindows()"
   ]
  },
  {
   "cell_type": "markdown",
   "metadata": {},
   "source": [
    "# Create Circle"
   ]
  },
  {
   "cell_type": "code",
   "execution_count": 3,
   "metadata": {},
   "outputs": [],
   "source": [
    "import numpy as np\n",
    "import cv2 as cv\n",
    "img = np.zeros((512,512,3), np.uint8)\n",
    "#(image where draw,coordenade of center of circle,radius,color (RGB), pixel size of trazo) \n",
    "# if last number is negatve is filled\n",
    "cv.circle (img,(447,63), 63, (0,0,255), -1)\n",
    "# Muestra la imagen dibujada\n",
    "cv.imshow('Imagen Dibujada', img)\n",
    "k= cv.waitKey(0)\n",
    "if k == ord(\"s\"):\n",
    "    cv.destroyAllWindows()"
   ]
  },
  {
   "cell_type": "markdown",
   "metadata": {},
   "source": [
    "# Create Elipse"
   ]
  },
  {
   "cell_type": "code",
   "execution_count": null,
   "metadata": {},
   "outputs": [],
   "source": [
    "import numpy as np\n",
    "import cv2 as cv\n",
    "#(image where draw,central ubication of elipse(x,y),longitude de los ejes (longitud del eje mayor, longitud del eje menor). El ángulo de rotación de la elipse en sentido antihorario(startAngle , endAngle) denotan el inicio y el final del arco de elipse.  \n",
    "img = np.zeros((512,512,3), np.uint8)\n",
    "cv.ellipse(img,(256,256),(100,50),0,0,180,255,-1)\n",
    "# Muestra la imagen dibujada\n",
    "cv.imshow('Imagen Dibujada', img)\n",
    "k= cv.waitKey(0)\n",
    "if k == ord(\"s\"):\n",
    "    cv.destroyAllWindows()"
   ]
  },
  {
   "cell_type": "markdown",
   "metadata": {},
   "source": [
    "# Polygon"
   ]
  },
  {
   "cell_type": "code",
   "execution_count": 6,
   "metadata": {},
   "outputs": [],
   "source": [
    "import numpy as np\n",
    "import cv2 as cv\n",
    "img = np.zeros((512,512,3), np.uint8)\n",
    "\n",
    "pts = np.array([[10,5],[20,30],[70,20],[50,10]], np.int32)\n",
    "pts = pts.reshape((-1,1,2))\n",
    "cv.polylines (img,[pts], True ,(0,255,255))\n",
    "# Muestra la imagen dibujada\n",
    "cv.imshow('Imagen Dibujada', img)\n",
    "k= cv.waitKey(0)\n",
    "if k == ord(\"s\"):\n",
    "    cv.destroyAllWindows()"
   ]
  },
  {
   "cell_type": "markdown",
   "metadata": {},
   "source": [
    "# Add Text"
   ]
  },
  {
   "cell_type": "code",
   "execution_count": null,
   "metadata": {},
   "outputs": [],
   "source": [
    "import numpy as np\n",
    "import cv2 as cv\n",
    "img = np.zeros((512,512,3), np.uint8)\n",
    "# (image where write,text,begin to write(x,y),font,scale,color,2,)\n",
    "font = cv.FONT_HERSHEY_SIMPLEX\n",
    "cv.putText(img,'OpenCV',(10,500), font, 4,(255,255,255),2,cv.LINE_AA)\n",
    "cv.imshow('Imagen Dibujada', img)\n",
    "k= cv.waitKey(0)\n",
    "if k == ord(\"s\"):\n",
    "    cv.destroyAllWindows()"
   ]
  },
  {
   "cell_type": "code",
   "execution_count": 10,
   "metadata": {},
   "outputs": [
    {
     "ename": "AttributeError",
     "evalue": "module 'numpy' has no attribute 'unit8'",
     "output_type": "error",
     "traceback": [
      "\u001b[0;31m---------------------------------------------------------------------------\u001b[0m",
      "\u001b[0;31mAttributeError\u001b[0m                            Traceback (most recent call last)",
      "Cell \u001b[0;32mIn[10], line 4\u001b[0m\n\u001b[1;32m      1\u001b[0m \u001b[38;5;28;01mimport\u001b[39;00m \u001b[38;5;21;01mcv2\u001b[39;00m\n\u001b[1;32m      2\u001b[0m \u001b[38;5;28;01mimport\u001b[39;00m \u001b[38;5;21;01mnumpy\u001b[39;00m \u001b[38;5;28;01mas\u001b[39;00m \u001b[38;5;21;01mnp\u001b[39;00m\n\u001b[0;32m----> 4\u001b[0m image \u001b[38;5;241m=\u001b[39mnp\u001b[38;5;241m.\u001b[39mfull((\u001b[38;5;241m512\u001b[39m,\u001b[38;5;241m512\u001b[39m,\u001b[38;5;241m3\u001b[39m),\u001b[38;5;241m255\u001b[39m,dtype\u001b[38;5;241m=\u001b[39m\u001b[43mnp\u001b[49m\u001b[38;5;241;43m.\u001b[39;49m\u001b[43munit8\u001b[49m)\n\u001b[1;32m      5\u001b[0m cv2\u001b[38;5;241m.\u001b[39mellipse(image,(\u001b[38;5;241m256\u001b[39m,\u001b[38;5;241m100\u001b[39m),(\u001b[38;5;241m90\u001b[39m,\u001b[38;5;241m90\u001b[39m),\u001b[38;5;241m120\u001b[39m,\u001b[38;5;241m0\u001b[39m,\u001b[38;5;241m300\u001b[39m,(\u001b[38;5;241m0\u001b[39m,\u001b[38;5;241m0\u001b[39m,\u001b[38;5;241m255\u001b[39m),\u001b[38;5;241m-\u001b[39m\u001b[38;5;241m1\u001b[39m)\n\u001b[1;32m      6\u001b[0m cv2\u001b[38;5;241m.\u001b[39mellipse(image,(\u001b[38;5;241m256\u001b[39m,\u001b[38;5;241m100\u001b[39m),(\u001b[38;5;241m30\u001b[39m,\u001b[38;5;241m30\u001b[39m),\u001b[38;5;241m120\u001b[39m,\u001b[38;5;241m0\u001b[39m,\u001b[38;5;241m300\u001b[39m,(\u001b[38;5;241m255\u001b[39m,\u001b[38;5;241m255\u001b[39m,\u001b[38;5;241m255\u001b[39m),\u001b[38;5;241m-\u001b[39m\u001b[38;5;241m1\u001b[39m)\n",
      "File \u001b[0;32m~/miniconda3/envs/tf/lib/python3.9/site-packages/numpy/__init__.py:311\u001b[0m, in \u001b[0;36m__getattr__\u001b[0;34m(attr)\u001b[0m\n\u001b[1;32m    308\u001b[0m     \u001b[38;5;28;01mfrom\u001b[39;00m \u001b[38;5;21;01m.\u001b[39;00m\u001b[38;5;21;01mtesting\u001b[39;00m \u001b[38;5;28;01mimport\u001b[39;00m Tester\n\u001b[1;32m    309\u001b[0m     \u001b[38;5;28;01mreturn\u001b[39;00m Tester\n\u001b[0;32m--> 311\u001b[0m \u001b[38;5;28;01mraise\u001b[39;00m \u001b[38;5;167;01mAttributeError\u001b[39;00m(\u001b[38;5;124m\"\u001b[39m\u001b[38;5;124mmodule \u001b[39m\u001b[38;5;132;01m{!r}\u001b[39;00m\u001b[38;5;124m has no attribute \u001b[39m\u001b[38;5;124m\"\u001b[39m\n\u001b[1;32m    312\u001b[0m                      \u001b[38;5;124m\"\u001b[39m\u001b[38;5;132;01m{!r}\u001b[39;00m\u001b[38;5;124m\"\u001b[39m\u001b[38;5;241m.\u001b[39mformat(\u001b[38;5;18m__name__\u001b[39m, attr))\n",
      "\u001b[0;31mAttributeError\u001b[0m: module 'numpy' has no attribute 'unit8'"
     ]
    }
   ],
   "source": [
    "import cv2\n",
    "import numpy as np\n",
    "\n",
    "image =np.full((512,512,3),255,dtype=np.unit8)\n",
    "cv2.putText(image,'OpenCV',(200,100),cv2.FONT_HERSHEY_SIMPLEX,1,(0,0,0),3)\n",
    "cv2.ellipse(image,(256,100),(90,90),120,0,300,(0,0,255),-1)\n",
    "cv2.ellipse(image,(256,100),(30,30),120,0,300,(255,255,255),-1)\n",
    "cv2.ellipse(image,(160,400),(90,90),0,0,300,(0,255,0),-1)\n",
    "cv2.ellipse(image,(160,400),(30,30),0,0,300,(255,255,255),-1)\n",
    "\n",
    "cv2.ellipse(image,(360,400),(90,90),300,0,300,(255,0,0),-1)\n",
    "cv2.ellipse(image,(360,400),(30,30),0,0,300,(255,255,255),-1)\n",
    "cv2.imshow(\"image\",image)\n",
    "cv2.waitKey(0)"
   ]
  }
 ],
 "metadata": {
  "kernelspec": {
   "display_name": "tf",
   "language": "python",
   "name": "python3"
  },
  "language_info": {
   "codemirror_mode": {
    "name": "ipython",
    "version": 3
   },
   "file_extension": ".py",
   "mimetype": "text/x-python",
   "name": "python",
   "nbconvert_exporter": "python",
   "pygments_lexer": "ipython3",
   "version": "3.9.18"
  }
 },
 "nbformat": 4,
 "nbformat_minor": 2
}
