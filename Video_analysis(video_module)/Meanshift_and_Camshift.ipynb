{
 "cells": [
  {
   "cell_type": "markdown",
   "metadata": {},
   "source": [
    "MeanShift"
   ]
  },
  {
   "cell_type": "markdown",
   "metadata": {},
   "source": [
    "Se le proporciona una ventana pequeña (puede ser un círculo) y debe mover esa ventana al área de máxima densidad de píxeles (o número máximo de puntos).\n",
    "\n",
    "La ventana inicial se muestra en un círculo azul con el nombre \"C1\". Su centro original está marcado en un rectángulo azul, denominado \"C1_o\". Pero si encuentras el centroide de los puntos dentro de esa ventana, obtendrás el punto \"C1_r\" (marcado en un pequeño círculo azul) que es el centroide real de la ventana. Seguramente no coinciden. Así que mueva su ventana de manera que el círculo de la nueva ventana coincida con el centroide anterior. Encuentre nuevamente el nuevo centroide. Lo más probable es que no coincida. Así que muévalo nuevamente y continúe las iteraciones de modo que el centro de la ventana y su centroide caigan en la misma ubicación (o dentro de un pequeño error deseado). Finalmente lo que obtienes es una ventana con la máxima distribución de píxeles. Está marcado con un círculo verde, denominado \"C2\". Como puedes ver en la imagen, tiene número máximo de puntos."
   ]
  },
  {
   "cell_type": "code",
   "execution_count": 2,
   "metadata": {},
   "outputs": [],
   "source": [
    "import cv2 as cv\n",
    "import numpy as np\n",
    "\n",
    "# Crear un objeto VideoCapture apuntando al archivo de video guardado\n",
    "cap = cv.VideoCapture('resources/slow_traffic_small.mp4')\n",
    "\n",
    "# Leer el primer fotograma del video\n",
    "ret, frame = cap.read()\n",
    "\n",
    "# Configurar la ubicación inicial de la ventana\n",
    "x, y, w, h = 300, 200, 100, 50  # simplemente valores codificados\n",
    "track_window = (x, y, w, h)\n",
    "\n",
    "# Configurar la ROI para el seguimiento\n",
    "roi = frame[y:y+h, x:x+w]\n",
    "hsv_roi = cv.cvtColor(roi, cv.COLOR_BGR2HSV)\n",
    "mask = cv.inRange(hsv_roi, np.array((0., 60.,32.)), np.array((180.,255.,255.)))\n",
    "roi_hist = cv.calcHist([hsv_roi],[0],mask,[180],[0,180])\n",
    "cv.normalize(roi_hist, roi_hist, 0, 255, cv.NORM_MINMAX)\n",
    "\n",
    "# Configurar el criterio de terminación, ya sea 10 iteraciones o moverse al menos 1 punto\n",
    "term_crit = (cv.TERM_CRITERIA_EPS | cv.TERM_CRITERIA_COUNT, 10, 1)\n",
    "\n",
    "while True:\n",
    "    # Leer un nuevo fotograma del video\n",
    "    ret, frame = cap.read()\n",
    "    \n",
    "    # Si no se lee el fotograma correctamente, salir del bucle\n",
    "    if not ret:\n",
    "        break\n",
    "\n",
    "    hsv = cv.cvtColor(frame, cv.COLOR_BGR2HSV)\n",
    "    dst = cv.calcBackProject([hsv],[0],roi_hist,[0,180],1)\n",
    "    \n",
    "    # Aplicar Mean Shift para obtener la nueva ubicación\n",
    "    ret, track_window = cv.meanShift(dst, track_window, term_crit)\n",
    "    \n",
    "    # Dibujar la ventana rastreada en la imagen\n",
    "    x, y, w, h = track_window\n",
    "    img2 = cv.rectangle(frame, (x,y), (x+w,y+h), 255, 2)\n",
    "    \n",
    "    # Mostrar la imagen con la ventana rastreada\n",
    "    cv.imshow('img2', img2)\n",
    "    \n",
    "    # Esperar y verificar si se presiona la tecla 'Esc' para salir\n",
    "    k = cv.waitKey(30) & 0xff\n",
    "    if k == 27:\n",
    "        break\n",
    "\n",
    "# Liberar el objeto VideoCapture y cerrar todas las ventanas\n",
    "cap.release()\n",
    "cv.destroyAllWindows()\n"
   ]
  },
  {
   "cell_type": "markdown",
   "metadata": {},
   "source": [
    "Camshift"
   ]
  },
  {
   "cell_type": "markdown",
   "metadata": {},
   "source": [
    "Hay un problema. Nuestra ventana siempre tiene el mismo tamaño tanto si el coche está muy lejos como muy cerca de la cámara. Eso no es bueno. Necesitamos adaptar el tamaño de la ventana con el tamaño y la rotación del objetivo. Una vez más, la solución provino de \"OpenCV Labs\" y se llama CAMshift (Continuously Adaptive Meanshift)"
   ]
  },
  {
   "cell_type": "markdown",
   "metadata": {},
   "source": [
    "Es similar a meanshift, pero devuelve un rectángulo rotado (ese es nuestro resultado) y parámetros de cuadro (que solían pasarse como ventana de búsqueda en la siguiente iteración). Vea el código a continuación:"
   ]
  },
  {
   "cell_type": "code",
   "execution_count": 3,
   "metadata": {},
   "outputs": [],
   "source": [
    "import numpy as np\n",
    "import cv2 as cv\n",
    "\n",
    "# Crear un objeto VideoCapture apuntando al archivo de video guardado\n",
    "cap = cv.VideoCapture('resources/slow_traffic_small.mp4')\n",
    "\n",
    "# Leer el primer fotograma del video\n",
    "ret, frame = cap.read()\n",
    "\n",
    "# Configurar la ubicación inicial de la ventana\n",
    "x, y, w, h = 300, 200, 100, 50  # simplemente valores codificados\n",
    "track_window = (x, y, w, h)\n",
    "\n",
    "# Configurar la ROI para el seguimiento\n",
    "roi = frame[y:y+h, x:x+w]\n",
    "hsv_roi = cv.cvtColor(roi, cv.COLOR_BGR2HSV)\n",
    "mask = cv.inRange(hsv_roi, np.array((0., 60.,32.)), np.array((180.,255.,255.)))\n",
    "roi_hist = cv.calcHist([hsv_roi],[0],mask,[180],[0,180])\n",
    "cv.normalize(roi_hist, roi_hist, 0, 255, cv.NORM_MINMAX)\n",
    "\n",
    "# Configurar el criterio de terminación, ya sea 10 iteraciones o moverse al menos 1 punto\n",
    "term_crit = (cv.TERM_CRITERIA_EPS | cv.TERM_CRITERIA_COUNT, 10, 1)\n",
    "\n",
    "while True:\n",
    "    # Leer un nuevo fotograma del video\n",
    "    ret, frame = cap.read()\n",
    "    \n",
    "    # Si no se lee el fotograma correctamente, salir del bucle\n",
    "    if not ret:\n",
    "        break\n",
    "\n",
    "    hsv = cv.cvtColor(frame, cv.COLOR_BGR2HSV)\n",
    "    dst = cv.calcBackProject([hsv],[0],roi_hist,[0,180],1)\n",
    "    \n",
    "    # Aplicar CamShift para obtener la nueva ubicación\n",
    "    ret, track_window = cv.CamShift(dst, track_window, term_crit)\n",
    "    \n",
    "    # Obtener los puntos del rectángulo rotado\n",
    "    pts = cv.boxPoints(ret)\n",
    "    pts = np.int0(pts)\n",
    "    \n",
    "    # Dibujar el rectángulo rotado en la imagen\n",
    "    img2 = cv.polylines(frame,[pts],True, 255, 2)\n",
    "    \n",
    "    # Mostrar la imagen con el rectángulo rotado\n",
    "    cv.imshow('img2', img2)\n",
    "    \n",
    "    # Esperar y verificar si se presiona la tecla 'Esc' para salir\n",
    "    k = cv.waitKey(30) & 0xff\n",
    "    if k == 27:\n",
    "        break\n",
    "\n",
    "# Liberar el objeto VideoCapture y cerrar todas las ventanas\n",
    "cap.release()\n",
    "cv.destroyAllWindows()\n"
   ]
  }
 ],
 "metadata": {
  "kernelspec": {
   "display_name": "tf",
   "language": "python",
   "name": "python3"
  },
  "language_info": {
   "codemirror_mode": {
    "name": "ipython",
    "version": 3
   },
   "file_extension": ".py",
   "mimetype": "text/x-python",
   "name": "python",
   "nbconvert_exporter": "python",
   "pygments_lexer": "ipython3",
   "version": "3.9.18"
  }
 },
 "nbformat": 4,
 "nbformat_minor": 2
}
