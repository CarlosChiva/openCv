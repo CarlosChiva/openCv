{
 "cells": [
  {
   "cell_type": "markdown",
   "metadata": {},
   "source": [
    "- La resta de fondo (BS) es una técnica común y ampliamente utilizada para generar una máscara de primer plano (es decir, una imagen binaria que contiene los píxeles que pertenecen a objetos en movimiento en la escena) mediante el uso de cámaras estáticas.\n",
    "- Como su nombre indica, BS calcula la máscara de primer plano realizando una resta entre el fotograma actual y un modelo de fondo, que contiene la parte estática de la escena o, más en general, todo lo que puede considerarse como fondo dadas las características de la escena observada."
   ]
  },
  {
   "cell_type": "markdown",
   "metadata": {},
   "source": [
    "El modelado en segundo plano consta de dos pasos principales:\n",
    "\n",
    "- Inicialización de fondo;\n",
    "- Actualización de antecedentes.\n",
    "\n",
    "En el primer paso se calcula un modelo inicial del fondo, mientras que en el segundo paso ese modelo se actualiza para adaptarse a posibles cambios en la escena."
   ]
  },
  {
   "cell_type": "code",
   "execution_count": null,
   "metadata": {},
   "outputs": [],
   "source": [
    "from __future__ import print_function\n",
    "import cv2 as cv\n",
    "import argparse\n",
    "\n",
    "parser = argparse.ArgumentParser(description='This program shows how to use background subtraction methods provided by \\\n",
    "                                              OpenCV. You can process both videos and images.')\n",
    "parser.add_argument('--input', type=str, help='Path to a video or a sequence of image.', default='resources/vtest.avi')\n",
    "parser.add_argument('--algo', type=str, help='Background subtraction method (KNN, MOG2).', default='MOG2')\n",
    "args = parser.parse_args()\n",
    "\n",
    "## [create]\n",
    "#Se utilizará un objeto BackgroundSubtractor() para generar la máscara de primer plano.\n",
    "#En este ejemplo, se utilizan parámetros predeterminados, pero también es posible declarar parámetros específicos en la función de creación.\n",
    "if args.algo == 'MOG2':\n",
    "    backSub = cv.createBackgroundSubtractorMOG2()\n",
    "else:\n",
    "    backSub = cv.createBackgroundSubtractorKNN()\n",
    "## [create]\n",
    "\n",
    "#Un objeto VideoCapture() se utiliza para leer la secuencia de vídeo de entrada o de imágenes de entrada.\n",
    "capture = cv.VideoCapture(cv.samples.findFileOrKeep(args.input))\n",
    "if not capture.isOpened():\n",
    "    print('Unable to open: ' + args.input)\n",
    "    exit(0)\n",
    "## [capture]\n",
    "\n",
    "while True:\n",
    "    ret, frame = capture.read()\n",
    "    if frame is None:\n",
    "        break\n",
    "\n",
    "    ## [apply]\n",
    "    #Cada fotograma se utiliza tanto para calcular la máscara de primer plano como para actualizar el fondo.\n",
    "    #Si desea cambiar la tasa de aprendizaje utilizada para actualizar el modelo en segundo plano, es posible establecer una tasa de aprendizaje específica pasando un parámetro al applymétodo.\n",
    "    fgMask = backSub.apply(frame)\n",
    "    ## [apply]\n",
    "\n",
    "    ## [display_frame_number]\n",
    "    #El número de fotograma actual se puede extraer del objeto VideoCapture y estampar en la esquina superior izquierda del fotograma actual. Se utiliza un rectángulo blanco para resaltar el número de fotograma de color negro.\n",
    "    cv.rectangle(frame, (10, 2), (100,20), (255,255,255), -1)\n",
    "    cv.putText(frame, str(capture.get(cv.CAP_PROP_POS_FRAMES)), (15, 15),\n",
    "               cv.FONT_HERSHEY_SIMPLEX, 0.5 , (0,0,0))\n",
    "    ## [display_frame_number]\n",
    "\n",
    "    ## [show]\n",
    "    #Estamos listos para mostrar el cuadro de entrada actual y los resultados.\n",
    "    cv.imshow('Frame', frame)\n",
    "    cv.imshow('FG Mask', fgMask)\n",
    "    ## [show]\n",
    "\n",
    "    keyboard = cv.waitKey(30)\n",
    "    if keyboard == 'q' or keyboard == 27:\n",
    "        break"
   ]
  }
 ],
 "metadata": {
  "kernelspec": {
   "display_name": "tf",
   "language": "python",
   "name": "python3"
  },
  "language_info": {
   "codemirror_mode": {
    "name": "ipython",
    "version": 3
   },
   "file_extension": ".py",
   "mimetype": "text/x-python",
   "name": "python",
   "nbconvert_exporter": "python",
   "pygments_lexer": "ipython3",
   "version": "3.9.18"
  }
 },
 "nbformat": 4,
 "nbformat_minor": 2
}
