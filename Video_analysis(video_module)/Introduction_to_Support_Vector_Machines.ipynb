{
 "cells": [
  {
   "cell_type": "markdown",
   "metadata": {},
   "source": [
    "SVM"
   ]
  },
  {
   "cell_type": "markdown",
   "metadata": {},
   "source": [
    "Una máquina de vectores de soporte (SVM) es un clasificador discriminativo definido formalmente por un hiperplano de separación. En otras palabras, dados los datos de entrenamiento etiquetados ( aprendizaje supervisado ), el algoritmo genera un hiperplano óptimo que categoriza nuevos ejemplos.\n",
    "\n",
    "El funcionamiento del algoritmo SVM se basa en encontrar el hiperplano que dé la mayor distancia mínima a los ejemplos de entrenamiento. Esta distancia recibe dos veces el importante nombre de margen dentro de la teoría de SVM. Por lo tanto, el hiperplano de separación óptimo maximiza el margen de los datos de entrenamiento."
   ]
  },
  {
   "cell_type": "code",
   "execution_count": 1,
   "metadata": {},
   "outputs": [
    {
     "data": {
      "text/plain": [
       "27"
      ]
     },
     "execution_count": 1,
     "metadata": {},
     "output_type": "execute_result"
    },
    {
     "ename": "",
     "evalue": "",
     "output_type": "error",
     "traceback": [
      "\u001b[1;31mThe Kernel crashed while executing code in the current cell or a previous cell. \n",
      "\u001b[1;31mPlease review the code in the cell(s) to identify a possible cause of the failure. \n",
      "\u001b[1;31mClick <a href='https://aka.ms/vscodeJupyterKernelCrash'>here</a> for more info. \n",
      "\u001b[1;31mView Jupyter <a href='command:jupyter.viewOutput'>log</a> for further details."
     ]
    }
   ],
   "source": [
    "import cv2 as cv\n",
    "import numpy as np\n",
    "\n",
    "# Los datos de entrenamiento de este ejercicio están formados por un conjunto de puntos 2D \n",
    "#etiquetados que pertenecen a una de dos clases diferentes; una de las clases consta de un punto y la otra de tres puntos.\n",
    "labels = np.array([1, -1, -1, -1])\n",
    "trainingData = np.matrix([[501, 10], [255, 10], [501, 255], [10, 501]], dtype=np.float32)\n",
    "\n",
    "# Train the SVM\n",
    "\n",
    "#cuando los ejemplos de entrenamiento se dividen en dos clases que son linealmente separables. \n",
    "#Sin embargo, las SVM se pueden utilizar en una amplia variedad de problemas \n",
    "#(por ejemplo, problemas con datos separables no linealmente, una SVM que utiliza una función del núcleo para aumentar la dimensionalidad de los ejemplos, etc.).\n",
    "#Como consecuencia de esto, tenemos que definir algunos parámetros antes de entrenar el SVM. Estos parámetros se almacenan en un objeto de la clase cv.ml.SVM() .\n",
    "svm = cv.ml.SVM_create()\n",
    "\n",
    "#Tipo de SVM . Elegimos aquí el tipo C_SVC que se puede utilizar para la clasificación de n clases (n≥2). \n",
    "#La característica importante de este tipo es que se ocupa de la separación imperfecta de clases\n",
    "svm.setType(cv.ml.SVM_C_SVC)\n",
    "\n",
    "#El núcleo realiza un mapeo realizado a los datos de entrenamiento para mejorar su parecido con un conjunto de datos linealmente separable. \n",
    "#Este mapeo consiste en aumentar la dimensionalidad de los datos y se realiza de manera eficiente utilizando una función del kernel. \n",
    "#Elegimos aquí el tipo LINEAR lo que significa que no se realiza ningún mapeo. Este parámetro se define usando setKernel .\n",
    "svm.setKernel(cv.ml.SVM_LINEAR)\n",
    "\n",
    "#Procedimiento de entrenamiento SVM se implementa resolviendo un problema de optimización cuadrática restringida de forma iterativa .\n",
    "#Aquí especificamos un número máximo de iteraciones y un error de tolerancia para permitir que el algoritmo finalice en una menor cantidad de pasos incluso si aún no se ha calculado el hiperplano óptimo.\n",
    "#Este parámetro se define en una estructura cv.TERM_CRITERIA_MAX_ITER .\n",
    "svm.setTermCriteria((cv.TERM_CRITERIA_MAX_ITER, 100, 1e-6))\n",
    "\n",
    "#La función svm.train() que se utilizará posteriormente requiere que los datos de entrenamiento se almacenen como objetoscv.Mat() de flotadores.\n",
    "#Por lo tanto, creamos estos objetos a partir de las matrices definidas anteriormente:\n",
    "\n",
    "#Metodo de entrenamiento del modelo\n",
    "svm.train(trainingData, cv.ml.ROW_SAMPLE, labels)\n",
    "\n",
    "# Data for visual representation\n",
    "width = 512\n",
    "height = 512\n",
    "image = np.zeros((height, width, 3), dtype=np.uint8)\n",
    "\n",
    "# Show the decision regions given by the SVM\n",
    "green = (0,255,0)\n",
    "blue = (255,0,0)\n",
    "for i in range(image.shape[0]):\n",
    "    for j in range(image.shape[1]):\n",
    "        sampleMat = np.matrix([[j,i]], dtype=np.float32)\n",
    "        #El método cv.ml.SVM.predict() se utiliza para clasificar una muestra de entrada utilizando un SVM entrenado.\n",
    "        response = svm.predict(sampleMat)[1]\n",
    "        if response == 1:\n",
    "            image[i,j] = green\n",
    "        elif response == -1:\n",
    "            image[i,j] = blue\n",
    "# Show the training data\n",
    "thickness = -1\n",
    "cv.circle(image, (501,  10), 5, (  0,   0,   0), thickness)\n",
    "cv.circle(image, (255,  10), 5, (255, 255, 255), thickness)\n",
    "cv.circle(image, (501, 255), 5, (255, 255, 255), thickness)\n",
    "cv.circle(image, ( 10, 501), 5, (255, 255, 255), thickness)\n",
    "# Show support vectors\n",
    "thickness = 2\n",
    "sv = svm.getUncompressedSupportVectors()\n",
    "for i in range(sv.shape[0]):\n",
    "    cv.circle(image, (int(sv[i,0]), int(sv[i,1])), 6, (128, 128, 128), thickness)\n",
    "cv.imwrite('result.png', image) # save the image\n",
    "cv.imshow('SVM Simple Example', image) # show it to the user\n",
    "cv.waitKey()"
   ]
  }
 ],
 "metadata": {
  "kernelspec": {
   "display_name": "tf",
   "language": "python",
   "name": "python3"
  },
  "language_info": {
   "codemirror_mode": {
    "name": "ipython",
    "version": 3
   },
   "file_extension": ".py",
   "mimetype": "text/x-python",
   "name": "python",
   "nbconvert_exporter": "python",
   "pygments_lexer": "ipython3",
   "version": "3.9.18"
  }
 },
 "nbformat": 4,
 "nbformat_minor": 2
}
