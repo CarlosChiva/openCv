{
 "cells": [
  {
   "cell_type": "code",
   "execution_count": null,
   "metadata": {},
   "outputs": [],
   "source": [
    "from __future__ import print_function\n",
    "from __future__ import division\n",
    "import cv2 as cv\n",
    "import numpy as np\n",
    "import argparse\n",
    "import os\n",
    "def loadExposureSeq(path):\n",
    "    images = []\n",
    "    times = []\n",
    "    with open(os.path.join(path, 'list.txt')) as f:\n",
    "        content = f.readlines()\n",
    "    for line in content:\n",
    "        tokens = line.split()\n",
    "        images.append(cv.imread(os.path.join(path, tokens[0])))\n",
    "        times.append(1 / float(tokens[1]))\n",
    "    return images, np.asarray(times, dtype=np.float32)\n",
    "parser = argparse.ArgumentParser(description='Code for High Dynamic Range Imaging tutorial.')\n",
    "parser.add_argument('--input', type=str, help='Path to the directory that contains images and exposure times.')\n",
    "args = parser.parse_args()\n",
    "if not args.input:\n",
    "    parser.print_help()\n",
    "    exit(0)\n",
    "images, times = loadExposureSeq(args.input)\n",
    "calibrate = cv.createCalibrateDebevec()\n",
    "response = calibrate.process(images, times)\n",
    "merge_debevec = cv.createMergeDebevec()\n",
    "hdr = merge_debevec.process(images, times, response)\n",
    "tonemap = cv.createTonemap(2.2)\n",
    "ldr = tonemap.process(hdr)\n",
    "merge_mertens = cv.createMergeMertens()\n",
    "fusion = merge_mertens.process(images)\n",
    "cv.imwrite('fusion.png', fusion * 255)\n",
    "cv.imwrite('ldr.png', ldr * 255)\n",
    "cv.imwrite('hdr.hdr', hdr)"
   ]
  },
  {
   "cell_type": "code",
   "execution_count": null,
   "metadata": {},
   "outputs": [],
   "source": [
    "images, times = loadExposureSeq(args.input)\n"
   ]
  },
  {
   "cell_type": "code",
   "execution_count": null,
   "metadata": {},
   "outputs": [],
   "source": [
    "calibrate = cv.createCalibrateDebevec()\n",
    "response = calibrate.process(images, times)"
   ]
  },
  {
   "cell_type": "code",
   "execution_count": null,
   "metadata": {},
   "outputs": [],
   "source": [
    "merge_debevec = cv.createMergeDebevec()\n",
    "hdr = merge_debevec.process(images, times, response)"
   ]
  },
  {
   "cell_type": "code",
   "execution_count": null,
   "metadata": {},
   "outputs": [],
   "source": [
    "tonemap = cv.createTonemap(2.2)\n",
    "ldr = tonemap.process(hdr)"
   ]
  },
  {
   "cell_type": "code",
   "execution_count": null,
   "metadata": {},
   "outputs": [],
   "source": [
    "merge_mertens = cv.createMergeMertens()\n",
    "fusion = merge_mertens.process(images)"
   ]
  },
  {
   "cell_type": "code",
   "execution_count": null,
   "metadata": {},
   "outputs": [],
   "source": [
    "cv.imwrite('fusion.png', fusion * 255)\n",
    "cv.imwrite('ldr.png', ldr * 255)\n",
    "cv.imwrite('hdr.hdr', hdr)"
   ]
  }
 ],
 "metadata": {
  "language_info": {
   "name": "python"
  }
 },
 "nbformat": 4,
 "nbformat_minor": 2
}
