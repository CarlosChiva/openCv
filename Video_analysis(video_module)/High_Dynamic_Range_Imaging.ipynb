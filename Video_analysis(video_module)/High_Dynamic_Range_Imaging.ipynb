{
 "cells": [
  {
   "cell_type": "code",
   "execution_count": 1,
   "metadata": {},
   "outputs": [
    {
     "name": "stderr",
     "output_type": "stream",
     "text": [
      "usage: ipykernel_launcher.py [-h] [--input INPUT]\n",
      "ipykernel_launcher.py: error: unrecognized arguments: --f=/home/dread/.local/share/jupyter/runtime/kernel-v2-6998D69J03V212Ui.json\n"
     ]
    },
    {
     "ename": "SystemExit",
     "evalue": "2",
     "output_type": "error",
     "traceback": [
      "An exception has occurred, use %tb to see the full traceback.\n",
      "\u001b[0;31mSystemExit\u001b[0m\u001b[0;31m:\u001b[0m 2\n"
     ]
    },
    {
     "name": "stderr",
     "output_type": "stream",
     "text": [
      "/home/dread/miniconda3/envs/tf/lib/python3.9/site-packages/IPython/core/interactiveshell.py:3534: UserWarning: To exit: use 'exit', 'quit', or Ctrl-D.\n",
      "  warn(\"To exit: use 'exit', 'quit', or Ctrl-D.\", stacklevel=1)\n"
     ]
    }
   ],
   "source": [
    "from __future__ import print_function\n",
    "from __future__ import division\n",
    "import cv2 as cv\n",
    "import numpy as np\n",
    "import argparse\n",
    "import os\n",
    "def loadExposureSeq(path):\n",
    "    images = []\n",
    "    times = []\n",
    "    with open(os.path.join(path, 'resources/list.txt')) as f:\n",
    "        content = f.readlines()\n",
    "    for line in content:\n",
    "        tokens = line.split()\n",
    "        images.append(cv.imread(os.path.join(path, tokens[0])))\n",
    "        times.append(1 / float(tokens[1]))\n",
    "    return images, np.asarray(times, dtype=np.float32)\n",
    "parser = argparse.ArgumentParser(description='Code for High Dynamic Range Imaging tutorial.')\n",
    "parser.add_argument('--input', type=str, help='Path to the directory that contains images and exposure times.')\n",
    "args = parser.parse_args()\n",
    "if not args.input:\n",
    "    parser.print_help()\n",
    "    exit(0)\n",
    "images, times = loadExposureSeq(args.input)\n",
    "calibrate = cv.createCalibrateDebevec()\n",
    "response = calibrate.process(images, times)\n",
    "merge_debevec = cv.createMergeDebevec()\n",
    "hdr = merge_debevec.process(images, times, response)\n",
    "tonemap = cv.createTonemap(2.2)\n",
    "ldr = tonemap.process(hdr)\n",
    "merge_mertens = cv.createMergeMertens()\n",
    "fusion = merge_mertens.process(images)\n",
    "cv.imwrite('resources/fusion.png', fusion * 255)\n",
    "cv.imwrite('resources/ldr.png', ldr * 255)\n",
    "cv.imwrite('resources/hdr.hdr', hdr)"
   ]
  },
  {
   "cell_type": "code",
   "execution_count": null,
   "metadata": {},
   "outputs": [],
   "source": [
    "images, times = loadExposureSeq(args.input)\n"
   ]
  },
  {
   "cell_type": "code",
   "execution_count": null,
   "metadata": {},
   "outputs": [],
   "source": [
    "calibrate = cv.createCalibrateDebevec()\n",
    "response = calibrate.process(images, times)"
   ]
  },
  {
   "cell_type": "code",
   "execution_count": null,
   "metadata": {},
   "outputs": [],
   "source": [
    "merge_debevec = cv.createMergeDebevec()\n",
    "hdr = merge_debevec.process(images, times, response)"
   ]
  },
  {
   "cell_type": "code",
   "execution_count": null,
   "metadata": {},
   "outputs": [],
   "source": [
    "tonemap = cv.createTonemap(2.2)\n",
    "ldr = tonemap.process(hdr)"
   ]
  },
  {
   "cell_type": "code",
   "execution_count": null,
   "metadata": {},
   "outputs": [],
   "source": [
    "merge_mertens = cv.createMergeMertens()\n",
    "fusion = merge_mertens.process(images)"
   ]
  },
  {
   "cell_type": "code",
   "execution_count": null,
   "metadata": {},
   "outputs": [],
   "source": [
    "cv.imwrite('resources/fusion.png', fusion * 255)\n",
    "cv.imwrite('resources/ldr.png', ldr * 255)\n",
    "cv.imwrite('resources/hdr.hdr', hdr)"
   ]
  }
 ],
 "metadata": {
  "kernelspec": {
   "display_name": "tf",
   "language": "python",
   "name": "python3"
  },
  "language_info": {
   "codemirror_mode": {
    "name": "ipython",
    "version": 3
   },
   "file_extension": ".py",
   "mimetype": "text/x-python",
   "name": "python",
   "nbconvert_exporter": "python",
   "pygments_lexer": "ipython3",
   "version": "3.9.18"
  }
 },
 "nbformat": 4,
 "nbformat_minor": 2
}
