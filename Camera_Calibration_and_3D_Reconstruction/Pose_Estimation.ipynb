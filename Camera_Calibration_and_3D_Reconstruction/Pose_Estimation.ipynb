{
 "cells": [
  {
   "cell_type": "markdown",
   "metadata": {},
   "source": [
    "Dada una imagen de patrón, podemos utilizar la información anterior para calcular su pose, o cómo está situado el objeto en el espacio, como cómo se gira, cómo se desplaza, etc. Para un objeto plano, podemos asumir Z=0, de modo que el problema ahora es cómo se coloca la cámara en el espacio para ver nuestra imagen de patrón. Entonces, si sabemos cómo se encuentra el objeto en el espacio, podemos dibujar algunos diagramas 2D para simular el efecto 3D"
   ]
  },
  {
   "cell_type": "code",
   "execution_count": 1,
   "metadata": {},
   "outputs": [],
   "source": [
    "import numpy as np\n",
    "import cv2 as cv\n",
    "import glob\n",
    "# Load previously saved data\n"
   ]
  },
  {
   "cell_type": "code",
   "execution_count": null,
   "metadata": {},
   "outputs": [],
   "source": [
    "with np.load('B.npz') as X:\n",
    "    mtx, dist, _, _ = [X[i] for i in ('mtx','dist','rvecs','tvecs')]"
   ]
  },
  {
   "cell_type": "markdown",
   "metadata": {},
   "source": [
    "Creamos una función, draw, que toma las esquinas del tablero de ajedrez (obtenidas usando cv.findChessboardCorners() ) y los puntos del eje para dibujar un eje 3D."
   ]
  },
  {
   "cell_type": "code",
   "execution_count": null,
   "metadata": {},
   "outputs": [],
   "source": [
    "def draw(img, corners, imgpts):\n",
    "    corner = tuple(corners[0].ravel())\n",
    "    img = cv.line(img, corner, tuple(imgpts[0].ravel()), (255,0,0), 5)\n",
    "    img = cv.line(img, corner, tuple(imgpts[1].ravel()), (0,255,0), 5)\n",
    "    img = cv.line(img, corner, tuple(imgpts[2].ravel()), (0,0,255), 5)\n",
    "    return img"
   ]
  },
  {
   "cell_type": "markdown",
   "metadata": {},
   "source": [
    "Luego, como en el caso anterior, creamos criterios de terminación, puntos de objeto (puntos 3D de las esquinas del tablero de ajedrez) y puntos de eje. Los puntos del eje son puntos en el espacio 3D para dibujar el eje. Dibujamos un eje de longitud 3 (las unidades estarán en términos del tamaño del cuadrado de ajedrez ya que calibramos en función de ese tamaño). Entonces nuestro eje X se dibuja de (0,0,0) a (3,0,0), lo mismo para el eje Y. Para el eje Z, se dibuja de (0,0,0) a (0,0,-3). Negativo denota que se dirige hacia la cámara."
   ]
  },
  {
   "cell_type": "code",
   "execution_count": null,
   "metadata": {},
   "outputs": [],
   "source": [
    "criteria = (cv.TERM_CRITERIA_EPS + cv.TERM_CRITERIA_MAX_ITER, 30, 0.001)\n",
    "objp = np.zeros((6*7,3), np.float32)\n",
    "objp[:,:2] = np.mgrid[0:7,0:6].T.reshape(-1,2)\n",
    "axis = np.float32([[3,0,0], [0,3,0], [0,0,-3]]).reshape(-1,3)"
   ]
  },
  {
   "cell_type": "markdown",
   "metadata": {},
   "source": [
    "Ahora, como es habitual, cargamos cada imagen. Busque una cuadrícula de 7x6. Si lo encontramos, lo refinamos con píxeles de subesquina. Luego, para calcular la rotación y la traslación, usamos la función cv.solvePnPRansac() . Una vez que tenemos esas matrices de transformación, las usamos para proyectar los puntos de nuestro eje al plano de la imagen"
   ]
  },
  {
   "cell_type": "code",
   "execution_count": null,
   "metadata": {},
   "outputs": [],
   "source": [
    "for fname in glob.glob('left*.jpg'):\n",
    "    img = cv.imread(fname)\n",
    "    gray = cv.cvtColor(img,cv.COLOR_BGR2GRAY)\n",
    "    ret, corners = cv.findChessboardCorners(gray, (7,6),None)\n",
    "    if ret == True:\n",
    "        corners2 = cv.cornerSubPix(gray,corners,(11,11),(-1,-1),criteria)\n",
    "        # Find the rotation and translation vectors.\n",
    "        ret,rvecs, tvecs = cv.solvePnP(objp, corners2, mtx, dist)\n",
    "        # project 3D points to image plane\n",
    "        imgpts, jac = cv.projectPoints(axis, rvecs, tvecs, mtx, dist)\n",
    "        img = draw(img,corners2,imgpts)\n",
    "        cv.imshow('img',img)\n",
    "        k = cv.waitKey(0) & 0xFF\n",
    "        if k == ord('s'):\n",
    "            cv.imwrite(fname[:6]+'.png', img)\n",
    "cv.destroyAllWindows()"
   ]
  }
 ],
 "metadata": {
  "kernelspec": {
   "display_name": "tf",
   "language": "python",
   "name": "python3"
  },
  "language_info": {
   "codemirror_mode": {
    "name": "ipython",
    "version": 3
   },
   "file_extension": ".py",
   "mimetype": "text/x-python",
   "name": "python",
   "nbconvert_exporter": "python",
   "pygments_lexer": "ipython3",
   "version": "3.9.18"
  }
 },
 "nbformat": 4,
 "nbformat_minor": 2
}
