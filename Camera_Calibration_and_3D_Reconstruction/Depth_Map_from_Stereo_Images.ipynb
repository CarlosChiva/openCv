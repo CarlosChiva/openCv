{
 "cells": [
  {
   "cell_type": "markdown",
   "metadata": {},
   "source": [
    "XyX′son la distancia entre puntos en el plano de la imagen correspondiente al punto de escena 3D y su centro de cámara.B es la distancia entre dos cámaras (que conocemos) yF es la distancia focal de la cámara (ya conocida). Determinan un punto en una escena es inversamente proporcional a la diferencia en la distancia de los puntos de la imagen correspondientes y sus centros de cámara. Entonces, con esta información, podemos derivar la profundidad de todos los píxeles de una imagen.\n",
    "\n",
    "Entonces encuentra coincidencias correspondientes entre dos imágenes. Ya hemos visto cómo la restricción epilineal hace que esta operación sea más rápida y precisa. Una vez que encuentra coincidencias, encuentra la disparidad. "
   ]
  },
  {
   "cell_type": "code",
   "execution_count": null,
   "metadata": {},
   "outputs": [],
   "source": [
    "import numpy as np\n",
    "import cv2 as cv\n",
    "from matplotlib import pyplot as plt\n",
    "imgL = cv.imread('tsukuba_l.png', cv.IMREAD_GRAYSCALE)\n",
    "imgR = cv.imread('tsukuba_r.png', cv.IMREAD_GRAYSCALE)\n",
    "stereo = cv.StereoBM.create(numDisparities=16, blockSize=15)\n",
    "disparity = stereo.compute(imgL,imgR)\n",
    "plt.imshow(disparity,'gray')\n",
    "plt.show()"
   ]
  }
 ],
 "metadata": {
  "language_info": {
   "name": "python"
  }
 },
 "nbformat": 4,
 "nbformat_minor": 2
}
