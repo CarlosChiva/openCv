{
 "cells": [
  {
   "cell_type": "code",
   "execution_count": 2,
   "metadata": {},
   "outputs": [],
   "source": [
    "import numpy as np\n",
    "import cv2 as cv\n",
    "# función de devolución de llamada del mouse\n",
    "def draw_circle(evento,x,y,banderas,param):\n",
    "    if evento == cv.EVENT_LBUTTONDBLCLK:\n",
    "        cv.circle (img,(x,y),100,(255,0,0),-1)\n"
   ]
  },
  {
   "cell_type": "code",
   "execution_count": null,
   "metadata": {},
   "outputs": [],
   "source": [
    "# Crea una imagen en negro, una ventana y vincula la función a la ventana\n",
    "img = np.zeros((512,512,3), np.uint8)\n",
    "cv.namedWindow ( 'imagen' )\n",
    "cv.setMouseCallback ( 'imagen' , draw_circle)\n",
    "while(1):\n",
    "    cv.imshow ( 'imagen' ,img)\n",
    "    if  cv.waitKey (20) and 0xFF == 27:\n",
    "        break\n",
    "cv.destroyAllWindows ()"
   ]
  },
  {
   "cell_type": "code",
   "execution_count": 2,
   "metadata": {},
   "outputs": [],
   "source": [
    "import numpy as np\n",
    "import cv2 as cv\n",
    "drawing = False # true if mouse is pressed\n",
    "mode = True # if True, draw rectangle. Press 'm' to toggle to curve\n",
    "ix,iy = -1,-1\n",
    "# mouse callback function\n",
    "def draw_circle(event,x,y,flags,param):\n",
    "    global ix,iy,drawing,mode\n",
    "    if event == cv.EVENT_LBUTTONDOWN:\n",
    "        drawing = True\n",
    "        ix,iy = x,y\n",
    "    elif event == cv.EVENT_MOUSEMOVE:\n",
    "        if drawing == True:\n",
    "            if mode == True:\n",
    "                cv.rectangle(img,(ix,iy),(x,y),(0,255,0),-1)\n",
    "            else:\n",
    "                cv.circle(img,(x,y),5,(0,0,255),-1)\n",
    "    elif event == cv.EVENT_LBUTTONUP:\n",
    "        drawing = False\n",
    "        if mode == True:\n",
    "            cv.rectangle(img,(ix,iy),(x,y),(0,255,0),-1)\n",
    "        else:\n",
    "            cv.circle(img,(x,y),5,(0,0,255),-1)"
   ]
  },
  {
   "cell_type": "code",
   "execution_count": 3,
   "metadata": {},
   "outputs": [],
   "source": [
    "img = np.zeros((512,512,3), np.uint8)\n",
    "cv.namedWindow('image')\n",
    "cv.setMouseCallback('image',draw_circle)\n",
    "while(1):\n",
    "    cv.imshow('image',img)\n",
    "    k = cv.waitKey(1) & 0xFF\n",
    "    if k == ord('m'):\n",
    "        mode = not mode\n",
    "    elif k == 27:\n",
    "        break\n",
    "cv.destroyAllWindows()"
   ]
  },
  {
   "cell_type": "code",
   "execution_count": 1,
   "metadata": {},
   "outputs": [
    {
     "name": "stderr",
     "output_type": "stream",
     "text": [
      "qt.qpa.plugin: Could not find the Qt platform plugin \"wayland\" in \"/home/dread/miniconda3/envs/tf/lib/python3.9/site-packages/cv2/qt/plugins\"\n"
     ]
    }
   ],
   "source": [
    "import numpy as np\n",
    "import cv2 as cv\n",
    "\n",
    "def nothing(x):\n",
    "    pass\n",
    "\n",
    "# Función de devolución de llamada del ratón\n",
    "def draw_circle(event, x, y, flags, param):\n",
    "    global drawing, ix, iy, b, g ,r \n",
    "    if event == cv.EVENT_LBUTTONDOWN:\n",
    "        drawing = True\n",
    "        ix, iy = x, y\n",
    "    elif event == cv.EVENT_LBUTTONUP:\n",
    "        drawing = False\n",
    "        cv.circle(img, (x, y), 10, (b, g, r), -1)\n",
    "\n",
    "# Inicialización de variables globales\n",
    "drawing = False\n",
    "ix, iy = -1, -1\n",
    "\n",
    "# Crear una imagen negra y una ventana\n",
    "img = np.zeros((300, 512, 3), np.uint8)\n",
    "cv.namedWindow('image')\n",
    "\n",
    "# Crear trackbars para el cambio de color\n",
    "cv.createTrackbar('R', 'image', 0, 255, nothing)\n",
    "cv.createTrackbar('G', 'image', 0, 255, nothing)\n",
    "cv.createTrackbar('B', 'image', 0, 255, nothing)\n",
    "\n",
    "# Crear interruptor para la funcionalidad ON/OFF\n",
    "switch = '0 : OFF \\n1 : ON'\n",
    "cv.createTrackbar(switch, 'image', 0, 1, nothing)\n",
    "\n",
    "# Asociar la función de devolución de llamada del ratón a la ventana\n",
    "cv.setMouseCallback('image', draw_circle)\n",
    "\n",
    "while True:\n",
    "    cv.imshow('image', img)\n",
    "    k = cv.waitKey(1) & 0xFF\n",
    "    if k == 27:\n",
    "        break\n",
    "\n",
    "    # Obtener posiciones actuales de los trackbars e interruptor\n",
    "    r = cv.getTrackbarPos('R', 'image')\n",
    "    g = cv.getTrackbarPos('G', 'image')\n",
    "    b = cv.getTrackbarPos('B', 'image')\n",
    "    s = cv.getTrackbarPos(switch, 'image')\n",
    "\n",
    "    if s == 0:\n",
    "        img[:] = 0\n",
    "    else:\n",
    "        img[:] = [b, g, r]\n",
    "\n",
    "cv.destroyAllWindows()"
   ]
  },
  {
   "cell_type": "markdown",
   "metadata": {},
   "source": [
    "Ejercicio"
   ]
  },
  {
   "cell_type": "code",
   "execution_count": 9,
   "metadata": {},
   "outputs": [],
   "source": [
    "import numpy as np\n",
    "import cv2 as cv\n",
    "\n",
    "dibujo = False  # verdadero si se presiona el mouse\n",
    "modo = True  # si es Verdadero, dibuja el rectángulo. Presione 'm' para cambiar a curva\n",
    "ix, iy = -1, -1\n",
    "fx, fy = -1, -1  # finales x, y para seguir la posición del mouse\n",
    "\n",
    "# función de devolución de llamada del mouse\n",
    "def draw_rectangle(evento, x, y, banderas, param):\n",
    "    global ix, iy, fx, fy, dibujo, modo\n",
    "    if evento == cv.EVENT_LBUTTONDOWN:\n",
    "        dibujo = True\n",
    "        ix, iy = x, y\n",
    "    elif evento == cv.EVENT_MOUSEMOVE:\n",
    "        if dibujo == True:\n",
    "            fx, fy = x, y\n",
    "            if modo == True:\n",
    "                img_temp = img.copy()\n",
    "                cv.rectangle(img_temp, (ix, iy), (fx, fy), (0, 255, 0), 1)\n",
    "                cv.imshow('imagen', img_temp)\n",
    "    elif evento == cv.EVENT_LBUTTONUP:\n",
    "        dibujo = False\n",
    "        fx, fy = x, y\n",
    "        if modo == True:\n",
    "            cv.rectangle(img, (ix, iy), (fx, fy), (0, 255, 0), 1)\n",
    "        cv.imshow('imagen', img)\n",
    "\n",
    "img = np.zeros((512, 512, 3), np.uint8)\n",
    "cv.namedWindow('imagen')\n",
    "cv.setMouseCallback('imagen', draw_rectangle)\n",
    "\n",
    "while(1):\n",
    "    cv.imshow('imagen', img)\n",
    "    k = cv.waitKey(1) & 0xFF\n",
    "    if k == ord('m'):\n",
    "        modo = not modo\n",
    "    elif k == 27:\n",
    "        break\n",
    "\n",
    "cv.destroyAllWindows()\n"
   ]
  }
 ],
 "metadata": {
  "kernelspec": {
   "display_name": "tf",
   "language": "python",
   "name": "python3"
  },
  "language_info": {
   "codemirror_mode": {
    "name": "ipython",
    "version": 3
   },
   "file_extension": ".py",
   "mimetype": "text/x-python",
   "name": "python",
   "nbconvert_exporter": "python",
   "pygments_lexer": "ipython3",
   "version": "3.9.18"
  }
 },
 "nbformat": 4,
 "nbformat_minor": 2
}
